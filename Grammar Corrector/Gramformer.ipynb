{
  "nbformat": 4,
  "nbformat_minor": 0,
  "metadata": {
    "colab": {
      "provenance": []
    },
    "kernelspec": {
      "name": "python3",
      "display_name": "Python 3"
    },
    "language_info": {
      "name": "python"
    },
    "accelerator": "GPU",
    "gpuClass": "standard"
  },
  "cells": [
    {
      "cell_type": "markdown",
      "source": [
        "# Install Dependencies\n"
      ],
      "metadata": {
        "id": "qSdRiCbrGBno"
      }
    },
    {
      "cell_type": "code",
      "source": [
        "!pip install torch==1.8.1+cu111 torchvision==0.9.1+cu111 torchaudio===0.8.1 -f https://download.pytorch.org/whl/lts/1.8/torch_lts.html"
      ],
      "metadata": {
        "id": "yUCaw_8eHLZc"
      },
      "execution_count": null,
      "outputs": []
    },
    {
      "cell_type": "code",
      "execution_count": null,
      "metadata": {
        "id": "uaZQyhw8FV2r"
      },
      "outputs": [],
      "source": [
        "!pip install -U git+https://github.com/PrithivirajDamodaran/Gramformer.git"
      ]
    },
    {
      "cell_type": "code",
      "source": [
        "!python -m spacy download en"
      ],
      "metadata": {
        "id": "cqWxK77dIKUx"
      },
      "execution_count": null,
      "outputs": []
    },
    {
      "cell_type": "code",
      "source": [
        "!pip install gradio"
      ],
      "metadata": {
        "id": "a6bTim2AOAW-"
      },
      "execution_count": null,
      "outputs": []
    },
    {
      "cell_type": "markdown",
      "source": [
        "# Instantiate Gramformer"
      ],
      "metadata": {
        "id": "T6ss3N7WGGYJ"
      }
    },
    {
      "cell_type": "code",
      "source": [
        "import spacy\n",
        "spacy.load('en')"
      ],
      "metadata": {
        "colab": {
          "base_uri": "https://localhost:8080/"
        },
        "id": "FDU0nt46L_Z5",
        "outputId": "42f9efcc-1b2d-42aa-a9eb-fa27e5d63666"
      },
      "execution_count": 6,
      "outputs": [
        {
          "output_type": "execute_result",
          "data": {
            "text/plain": [
              "<spacy.lang.en.English at 0x7f1760c73730>"
            ]
          },
          "metadata": {},
          "execution_count": 6
        }
      ]
    },
    {
      "cell_type": "code",
      "source": [
        "from gramformer import Gramformer\n",
        "\n",
        "gf = Gramformer(models=1, use_gpu=True) # 1=corrector, 2=detector"
      ],
      "metadata": {
        "id": "7XFY8O_GGI9g",
        "colab": {
          "base_uri": "https://localhost:8080/"
        },
        "outputId": "ba7136c6-6344-450e-ea30-5b1c7ef95955"
      },
      "execution_count": 13,
      "outputs": [
        {
          "output_type": "stream",
          "name": "stdout",
          "text": [
            "[Gramformer] Grammar error correct/highlight model loaded..\n"
          ]
        }
      ]
    },
    {
      "cell_type": "markdown",
      "source": [
        "# Run Correction"
      ],
      "metadata": {
        "id": "q2Mzh91XGJQB"
      }
    },
    {
      "cell_type": "code",
      "source": [
        "list(gf.correct(\"My name a Mahmoud\", max_candidates=1))[0]"
      ],
      "metadata": {
        "colab": {
          "base_uri": "https://localhost:8080/",
          "height": 35
        },
        "id": "-NncP1qIMr-s",
        "outputId": "84357665-16ee-4ed3-fb41-a6c2ecd69676"
      },
      "execution_count": 22,
      "outputs": [
        {
          "output_type": "execute_result",
          "data": {
            "text/plain": [
              "'My name is Mahmoud.'"
            ],
            "application/vnd.google.colaboratory.intrinsic+json": {
              "type": "string"
            }
          },
          "metadata": {},
          "execution_count": 22
        }
      ]
    },
    {
      "cell_type": "code",
      "source": [
        "sentences = [\n",
        "    \"He are moving here.\",\n",
        "    \"I am doing fine. How is you?\",\n",
        "    \"How is they?\",\n",
        "    \"Matt like fish\",\n",
        "    \"the collection of letters was original used by the ancient Romans\",\n",
        "    \"We enjoys horror movies\",\n",
        "    \"Anna and Mike is going skiing\",\n",
        "    \"I walk to the store and I bought milk\",\n",
        "    \" We all eat the fish and then made dessert\",\n",
        "    \"I will eat fish for dinner and drink milk\",\n",
        "    \"what be the reason for everyone leave the company\",\n",
        "]   "
      ],
      "metadata": {
        "id": "UPTB6w2EGKPO"
      },
      "execution_count": 15,
      "outputs": []
    },
    {
      "cell_type": "code",
      "source": [
        "for sentence in sentences:\n",
        "    print(\"[Input] \", sentence)\n",
        "    corrected_sentences = gf.correct(sentence, max_candidates=1)\n",
        "    print(\"[Corrected] \", list(corrected_sentences)[0])\n",
        "    print('-'*50)"
      ],
      "metadata": {
        "colab": {
          "base_uri": "https://localhost:8080/"
        },
        "id": "HJNHFGsiIaiO",
        "outputId": "77c14553-0cd0-4cf5-883d-074ca7d66c8d"
      },
      "execution_count": 23,
      "outputs": [
        {
          "output_type": "stream",
          "name": "stdout",
          "text": [
            "[Input]  He are moving here.\n",
            "[Corrected]  He is moving here.\n",
            "--------------------------------------------------\n",
            "[Input]  I am doing fine. How is you?\n",
            "[Corrected]  I am doing fine. How are you?\n",
            "--------------------------------------------------\n",
            "[Input]  How is they?\n",
            "[Corrected]  How are they?\n",
            "--------------------------------------------------\n",
            "[Input]  Matt like fish\n",
            "[Corrected]  Matt likes fish.\n",
            "--------------------------------------------------\n",
            "[Input]  the collection of letters was original used by the ancient Romans\n",
            "[Corrected]  the collection of letters was originally used by the ancient Romans\n",
            "--------------------------------------------------\n",
            "[Input]  We enjoys horror movies\n",
            "[Corrected]  We enjoy horror movies.\n",
            "--------------------------------------------------\n",
            "[Input]  Anna and Mike is going skiing\n",
            "[Corrected]  Anna and Mike are going skiing.\n",
            "--------------------------------------------------\n",
            "[Input]  I walk to the store and I bought milk\n",
            "[Corrected]  I walked to the store and I bought milk.\n",
            "--------------------------------------------------\n",
            "[Input]   We all eat the fish and then made dessert\n",
            "[Corrected]  We all ate the fish and then made dessert.\n",
            "--------------------------------------------------\n",
            "[Input]  I will eat fish for dinner and drink milk\n",
            "[Corrected]  I will eat fish for dinner and drink milk.\n",
            "--------------------------------------------------\n",
            "[Input]  what be the reason for everyone leave the company\n",
            "[Corrected]  what is the reason for everyone leaving the company?\n",
            "--------------------------------------------------\n"
          ]
        }
      ]
    },
    {
      "cell_type": "markdown",
      "source": [
        "# Putting it Together with Gradio"
      ],
      "metadata": {
        "id": "AQadI1H8GKcT"
      }
    },
    {
      "cell_type": "code",
      "source": [
        "import gradio as gr"
      ],
      "metadata": {
        "id": "7TG1V-eQGNZV"
      },
      "execution_count": 26,
      "outputs": []
    },
    {
      "cell_type": "code",
      "source": [
        "def correct(sentence):\n",
        "    res = gf.correct(sentence, max_candidates=1)\n",
        "    return list(res)[0]"
      ],
      "metadata": {
        "id": "ks5jv3VdOKEZ"
      },
      "execution_count": 33,
      "outputs": []
    },
    {
      "cell_type": "code",
      "source": [
        "interface = gr.Interface(fn = correct,\n",
        "                         inputs = gr.Textbox(\n",
        "                             lines=2, placeholder=\"Enter sentence here...\"\n",
        "                         ),\n",
        "                         outputs = \"text\",\n",
        "                         title = \"Sup, I'm Gramformer\")"
      ],
      "metadata": {
        "id": "Ngl3RKZDOUrf"
      },
      "execution_count": 35,
      "outputs": []
    },
    {
      "cell_type": "code",
      "source": [
        "interface.launch()"
      ],
      "metadata": {
        "colab": {
          "base_uri": "https://localhost:8080/",
          "height": 618
        },
        "id": "Rm8GzHVNPvQM",
        "outputId": "81cd9974-0727-498c-e51e-3ab411957fe6"
      },
      "execution_count": 36,
      "outputs": [
        {
          "output_type": "stream",
          "name": "stdout",
          "text": [
            "Colab notebook detected. To show errors in colab notebook, set `debug=True` in `launch()`\n",
            "Note: opening Chrome Inspector may crash demo inside Colab notebooks.\n",
            "\n",
            "To create a public link, set `share=True` in `launch()`.\n"
          ]
        },
        {
          "output_type": "display_data",
          "data": {
            "text/plain": [
              "<IPython.core.display.Javascript object>"
            ],
            "application/javascript": [
              "(async (port, path, width, height, cache, element) => {\n",
              "                        if (!google.colab.kernel.accessAllowed && !cache) {\n",
              "                            return;\n",
              "                        }\n",
              "                        element.appendChild(document.createTextNode(''));\n",
              "                        const url = await google.colab.kernel.proxyPort(port, {cache});\n",
              "\n",
              "                        const external_link = document.createElement('div');\n",
              "                        external_link.innerHTML = `\n",
              "                            <div style=\"font-family: monospace; margin-bottom: 0.5rem\">\n",
              "                                Running on <a href=${new URL(path, url).toString()} target=\"_blank\">\n",
              "                                    https://localhost:${port}${path}\n",
              "                                </a>\n",
              "                            </div>\n",
              "                        `;\n",
              "                        element.appendChild(external_link);\n",
              "\n",
              "                        const iframe = document.createElement('iframe');\n",
              "                        iframe.src = new URL(path, url).toString();\n",
              "                        iframe.height = height;\n",
              "                        iframe.allow = \"autoplay; camera; microphone; clipboard-read; clipboard-write;\"\n",
              "                        iframe.width = width;\n",
              "                        iframe.style.border = 0;\n",
              "                        element.appendChild(iframe);\n",
              "                    })(7860, \"/\", \"100%\", 500, false, window.element)"
            ]
          },
          "metadata": {}
        },
        {
          "output_type": "execute_result",
          "data": {
            "text/plain": []
          },
          "metadata": {},
          "execution_count": 36
        }
      ]
    }
  ]
}
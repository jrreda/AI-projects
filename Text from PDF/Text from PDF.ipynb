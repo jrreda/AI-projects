{
 "cells": [
  {
   "cell_type": "code",
   "execution_count": 1,
   "id": "d02018fe-e760-4284-9e54-01a65fad7d7a",
   "metadata": {},
   "outputs": [
    {
     "name": "stdout",
     "output_type": "stream",
     "text": [
      "Collecting tika\n",
      "  Downloading tika-2.6.0.tar.gz (27 kB)\n",
      "  Preparing metadata (setup.py): started\n",
      "  Preparing metadata (setup.py): finished with status 'done'\n",
      "Requirement already satisfied: setuptools in c:\\users\\mahmo\\anaconda3\\lib\\site-packages (from tika) (61.2.0)\n",
      "Requirement already satisfied: requests in c:\\users\\mahmo\\anaconda3\\lib\\site-packages (from tika) (2.27.1)\n",
      "Requirement already satisfied: urllib3<1.27,>=1.21.1 in c:\\users\\mahmo\\anaconda3\\lib\\site-packages (from requests->tika) (1.26.9)\n",
      "Requirement already satisfied: idna<4,>=2.5 in c:\\users\\mahmo\\anaconda3\\lib\\site-packages (from requests->tika) (3.3)\n",
      "Requirement already satisfied: certifi>=2017.4.17 in c:\\users\\mahmo\\anaconda3\\lib\\site-packages (from requests->tika) (2022.6.15)\n",
      "Requirement already satisfied: charset-normalizer~=2.0.0 in c:\\users\\mahmo\\anaconda3\\lib\\site-packages (from requests->tika) (2.0.4)\n",
      "Building wheels for collected packages: tika\n",
      "  Building wheel for tika (setup.py): started\n",
      "  Building wheel for tika (setup.py): finished with status 'done'\n",
      "  Created wheel for tika: filename=tika-2.6.0-py3-none-any.whl size=32642 sha256=02172a0aa2a54e551bcfdf1c1ba8cfd077f96daee9bcc7467bcb026b8b3b82f7\n",
      "  Stored in directory: c:\\users\\mahmo\\appdata\\local\\pip\\cache\\wheels\\90\\24\\b6\\6d3480f25c91fcc9a55b4e76f180baf087ee2acd16e561a015\n",
      "Successfully built tika\n",
      "Installing collected packages: tika\n",
      "Successfully installed tika-2.6.0\n"
     ]
    },
    {
     "name": "stderr",
     "output_type": "stream",
     "text": [
      "WARNING: Ignoring invalid distribution -illow (c:\\users\\mahmo\\anaconda3\\lib\\site-packages)\n",
      "WARNING: Ignoring invalid distribution -illow (c:\\users\\mahmo\\anaconda3\\lib\\site-packages)\n",
      "WARNING: Ignoring invalid distribution -illow (c:\\users\\mahmo\\anaconda3\\lib\\site-packages)\n",
      "WARNING: Ignoring invalid distribution -illow (c:\\users\\mahmo\\anaconda3\\lib\\site-packages)\n",
      "WARNING: Ignoring invalid distribution -illow (c:\\users\\mahmo\\anaconda3\\lib\\site-packages)\n",
      "WARNING: Ignoring invalid distribution -illow (c:\\users\\mahmo\\anaconda3\\lib\\site-packages)\n",
      "WARNING: Ignoring invalid distribution -illow (c:\\users\\mahmo\\anaconda3\\lib\\site-packages)\n"
     ]
    }
   ],
   "source": [
    "!pip install tika"
   ]
  },
  {
   "cell_type": "code",
   "execution_count": 2,
   "id": "311f4a54-ba97-46c3-8df0-5486b005512f",
   "metadata": {},
   "outputs": [],
   "source": [
    "from tika import parser"
   ]
  },
  {
   "cell_type": "code",
   "execution_count": 6,
   "id": "9ee49ec7-3356-4def-8162-1f2755a1c8f2",
   "metadata": {},
   "outputs": [],
   "source": [
    "file = 'Resume.pdf'\n",
    "\n",
    "raw = parser.from_file(file)"
   ]
  },
  {
   "cell_type": "code",
   "execution_count": 9,
   "id": "4b6b6b80-a93b-46b1-bfe9-173de46d758e",
   "metadata": {},
   "outputs": [
    {
     "data": {
      "text/plain": [
       "'\\n\\n\\n\\n\\n\\n\\n\\n\\n\\n\\n\\n\\n\\n\\n\\n\\n\\n\\n\\n\\n\\n\\n\\n\\n\\n\\nResume\\n\\n\\nMahmoud Reda\\nData Scientist\\n\\n16 Ahmed Orabi st.\\nEl Salam City, Cairo\\n010 6990 7582\\nmahmoudreda457@gmail.com\\n\\nSUMMARY\\n\\n I am smitten with coding, numbers, data, and computers. I found my\\npassion in 2017 in my 2nd year in college as I attended the ICT in Orange\\nconference about Big Data & IoT. I was impressed with how we can control\\nseveral things, make them communicate automatically with each other,\\nand make the future much easier for us.\\n\\nEXPERIENCE\\n\\nComputer Vision Intern, Remote — MoodMe\\nPart-time Jan 2022 – Feb 2022 · 2 mos\\n\\nCollect, Clean datasets & optimize existing models\\n\\nData Analyst, Nasr City— BawabtAlsharq\\nJUN 2021 –  JUL 2022\\n\\nDeveloping reports from Google Analytics and using GTM & Excel.\\n\\nCreate Dashboards on Data Studio.\\n\\nSupport media buyers & marketing team to evaluate marketing strategies\\nand help avoid wasting money based on data-driven decisions,\\n\\nUsing SQL & Python to collect & analyze data from old website versions &\\nlocal database.\\n\\nEDUCATION\\n\\nComputer Science, Bachelor — HTI\\nSEP 2015 - SEP 2019\\n\\nI’m a Technological Institute (HTI) graduate with a 3.05 GPA.\\n\\nSKILLS\\n\\n Python, Statistics, SQL, R,\\n PySpark, AWS\\n Machine learning\\n Deep learning\\n Data Visualization\\n Scraping\\n Automating\\n Regular Expressions\\n Fair knowledge of Java\\n Linux\\n Googling\\n\\nCERTIFICATIONS\\n- SQL for Data Science via\\n\\nCoursera.\\n- Machine Learning via\\n\\nCoursera.\\n- Data Science: Foundations\\n\\nusing R Specialization via\\nCoursera.\\n\\n- Applied Data Science with\\nPython Specialization Via\\nCoursera.\\n\\n- Statistics with Python\\nSpecialization Via Coursera.\\n\\n- Data Analysis Professional\\nTrack via Udacity.\\n\\n- AI Programming with\\nPython Nanodegree via\\nUdacity.\\n\\nLANGUAGES\\n\\n- Arabic: Native\\n- English: C1\\n- German: A1\\n\\nSOCIAL ACCOUNTS\\n\\n- GitHub\\n- LinkedIn\\n- Kaggle\\n\\nhttps://www.datascienceportfol.io/jrreda\\nmailto:mahmoudreda457@gmail.com\\nhttps://github.com/jrreda\\nhttps://www.linkedin.com/in/jrreda/\\nhttps://www.kaggle.com/jrreda\\n\\n'"
      ]
     },
     "execution_count": 9,
     "metadata": {},
     "output_type": "execute_result"
    }
   ],
   "source": [
    "raw['content']"
   ]
  },
  {
   "cell_type": "code",
   "execution_count": 11,
   "id": "b8c95023-1547-40f5-b393-a7b68c1bc647",
   "metadata": {},
   "outputs": [
    {
     "name": "stdout",
     "output_type": "stream",
     "text": [
      "Resume\n",
      "\n",
      "\n",
      "Mahmoud Reda\n",
      "Data Scientist\n",
      "\n",
      "16 Ahmed Orabi st.\n",
      "El Salam City, Cairo\n",
      "010 6990 7582\n",
      "mahmoudreda457@gmail.com\n",
      "\n",
      "SUMMARY\n",
      "\n",
      " I am smitten with coding, numbers, data, and computers. I found my\n",
      "passion in 2017 in my 2nd year in college as I attended the ICT in Orange\n",
      "conference about Big Data & IoT. I was impressed with how we can control\n",
      "several things, make them communicate automatically with each other,\n",
      "and make the future much easier for us.\n",
      "\n",
      "EXPERIENCE\n",
      "\n",
      "Computer Vision Intern, Remote — MoodMe\n",
      "Part-time Jan 2022 – Feb 2022 · 2 mos\n",
      "\n",
      "Collect, Clean datasets & optimize existing models\n",
      "\n",
      "Data Analyst, Nasr City— BawabtAlsharq\n",
      "JUN 2021 –  JUL 2022\n",
      "\n",
      "Developing reports from Google Analytics and using GTM & Excel.\n",
      "\n",
      "Create Dashboards on Data Studio.\n",
      "\n",
      "Support media buyers & marketing team to evaluate marketing strategies\n",
      "and help avoid wasting money based on data-driven decisions,\n",
      "\n",
      "Using SQL & Python to collect & analyze data from old website versions &\n",
      "local database.\n",
      "\n",
      "EDUCATION\n",
      "\n",
      "Computer Science, Bachelor — HTI\n",
      "SEP 2015 - SEP 2019\n",
      "\n",
      "I’m a Technological Institute (HTI) graduate with a 3.05 GPA.\n",
      "\n",
      "SKILLS\n",
      "\n",
      " Python, Statistics, SQL, R,\n",
      " PySpark, AWS\n",
      " Machine learning\n",
      " Deep learning\n",
      " Data Visualization\n",
      " Scraping\n",
      " Automating\n",
      " Regular Expressions\n",
      " Fair knowledge of Java\n",
      " Linux\n",
      " Googling\n",
      "\n",
      "CERTIFICATIONS\n",
      "- SQL for Data Science via\n",
      "\n",
      "Coursera.\n",
      "- Machine Learning via\n",
      "\n",
      "Coursera.\n",
      "- Data Science: Foundations\n",
      "\n",
      "using R Specialization via\n",
      "Coursera.\n",
      "\n",
      "- Applied Data Science with\n",
      "Python Specialization Via\n",
      "Coursera.\n",
      "\n",
      "- Statistics with Python\n",
      "Specialization Via Coursera.\n",
      "\n",
      "- Data Analysis Professional\n",
      "Track via Udacity.\n",
      "\n",
      "- AI Programming with\n",
      "Python Nanodegree via\n",
      "Udacity.\n",
      "\n",
      "LANGUAGES\n",
      "\n",
      "- Arabic: Native\n",
      "- English: C1\n",
      "- German: A1\n",
      "\n",
      "SOCIAL ACCOUNTS\n",
      "\n",
      "- GitHub\n",
      "- LinkedIn\n",
      "- Kaggle\n",
      "\n",
      "https://www.datascienceportfol.io/jrreda\n",
      "mailto:mahmoudreda457@gmail.com\n",
      "https://github.com/jrreda\n",
      "https://www.linkedin.com/in/jrreda/\n",
      "https://www.kaggle.com/jrreda\n"
     ]
    }
   ],
   "source": [
    "print(raw['content'].strip())"
   ]
  }
 ],
 "metadata": {
  "kernelspec": {
   "display_name": "Python 3 (ipykernel)",
   "language": "python",
   "name": "python3"
  },
  "language_info": {
   "codemirror_mode": {
    "name": "ipython",
    "version": 3
   },
   "file_extension": ".py",
   "mimetype": "text/x-python",
   "name": "python",
   "nbconvert_exporter": "python",
   "pygments_lexer": "ipython3",
   "version": "3.8.13"
  },
  "widgets": {
   "application/vnd.jupyter.widget-state+json": {
    "state": {},
    "version_major": 2,
    "version_minor": 0
   }
  }
 },
 "nbformat": 4,
 "nbformat_minor": 5
}

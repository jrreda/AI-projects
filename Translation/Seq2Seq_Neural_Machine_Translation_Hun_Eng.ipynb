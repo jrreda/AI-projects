{
  "nbformat": 4,
  "nbformat_minor": 0,
  "metadata": {
    "colab": {
      "provenance": []
    },
    "kernelspec": {
      "name": "python3",
      "display_name": "Python 3"
    },
    "language_info": {
      "name": "python"
    },
    "accelerator": "GPU",
    "gpuClass": "standard"
  },
  "cells": [
    {
      "cell_type": "markdown",
      "source": [
        "Our model will use just two LSTMs (one encoder and one decoder) to translate Hungarian to English. We're going with Hungarian here because it's a particularly challenging language to tackle with few resources.\n",
        "<br><br>\n",
        "The dataset we'll use comes from **Tatoeba**, a collection of sentence translations in a variety of languages sourced from volunteers:\n",
        "<br>\n",
        "https://tatoeba.org/en"
      ],
      "metadata": {
        "id": "1rgMPTIJMUaN"
      }
    },
    {
      "cell_type": "code",
      "execution_count": 1,
      "metadata": {
        "id": "Ma_eW-QKL5G3"
      },
      "outputs": [],
      "source": [
        "import io\n",
        "import json\n",
        "import numpy as np\n",
        "import pandas as pd\n",
        "import random\n",
        "import re\n",
        "import tensorflow as tf\n",
        "import unicodedata\n",
        "\n",
        "from google.colab import files\n",
        "from tensorflow.keras import layers\n",
        "\n",
        "import warnings\n",
        "warnings.filterwarnings(\"ignore\")"
      ]
    },
    {
      "cell_type": "markdown",
      "source": [
        "# Recurrence-based Seq2Seq Neural Machine Translation **WITHOUT** Attention"
      ],
      "metadata": {
        "id": "xgHHnVVbMCoa"
      }
    },
    {
      "cell_type": "code",
      "source": [
        "# Download the training set.\n",
        "!wget https://raw.githubusercontent.com/nitinpunjabi/nlp-demystified/main/datasets/hun_eng_pairs/hun_eng_pairs_train.txt"
      ],
      "metadata": {
        "colab": {
          "base_uri": "https://localhost:8080/"
        },
        "id": "TIlZVgKIMBJc",
        "outputId": "ff345b88-fc17-4a43-f7d4-3d6cce1d1b7c"
      },
      "execution_count": 2,
      "outputs": [
        {
          "output_type": "stream",
          "name": "stdout",
          "text": [
            "--2023-03-28 14:50:15--  https://raw.githubusercontent.com/nitinpunjabi/nlp-demystified/main/datasets/hun_eng_pairs/hun_eng_pairs_train.txt\n",
            "Resolving raw.githubusercontent.com (raw.githubusercontent.com)... 185.199.108.133, 185.199.109.133, 185.199.110.133, ...\n",
            "Connecting to raw.githubusercontent.com (raw.githubusercontent.com)|185.199.108.133|:443... connected.\n",
            "HTTP request sent, awaiting response... 200 OK\n",
            "Length: 5518306 (5.3M) [text/plain]\n",
            "Saving to: ‘hun_eng_pairs_train.txt’\n",
            "\n",
            "hun_eng_pairs_train 100%[===================>]   5.26M  --.-KB/s    in 0.08s   \n",
            "\n",
            "2023-03-28 14:50:15 (66.8 MB/s) - ‘hun_eng_pairs_train.txt’ saved [5518306/5518306]\n",
            "\n"
          ]
        }
      ]
    },
    {
      "cell_type": "code",
      "source": [
        "with open('hun_eng_pairs_train.txt') as file:\n",
        "  train = [line.rstrip() for line in file]"
      ],
      "metadata": {
        "id": "IKbOZcHENUDN"
      },
      "execution_count": 3,
      "outputs": []
    },
    {
      "cell_type": "code",
      "source": [
        "train[:5]"
      ],
      "metadata": {
        "colab": {
          "base_uri": "https://localhost:8080/"
        },
        "id": "ia4NtSTQNYIL",
        "outputId": "dd60b0ee-d5d6-4827-9f5f-3a860ba219f4"
      },
      "execution_count": 4,
      "outputs": [
        {
          "output_type": "execute_result",
          "data": {
            "text/plain": [
              "[\"Teszek rá, mit mondasz!<sep>I don't care what you say.\",\n",
              " 'Több olyan ember kell nekünk a csapatba, mint amilyen te vagy.<sep>We need more people like you on our team.',\n",
              " 'Vigyázz a gyerekeimre!<sep>Take care of my children.',\n",
              " 'Miért van szüksége önöknek két kerékpárra?<sep>Why do you need two bicycles?',\n",
              " \"Nincs helye a kétségnek.<sep>There's no room for doubt.\"]"
            ]
          },
          "metadata": {},
          "execution_count": 4
        }
      ]
    },
    {
      "cell_type": "code",
      "source": [
        "len(train)"
      ],
      "metadata": {
        "colab": {
          "base_uri": "https://localhost:8080/"
        },
        "id": "lJgXym04NdZD",
        "outputId": "0c6d46ee-c764-4914-b821-97bc49fe4d9c"
      },
      "execution_count": 5,
      "outputs": [
        {
          "output_type": "execute_result",
          "data": {
            "text/plain": [
              "88647"
            ]
          },
          "metadata": {},
          "execution_count": 5
        }
      ]
    },
    {
      "cell_type": "code",
      "source": [
        "# Separate the input (Hungarian) and target (English) sentences into separate lists.\n",
        "SEPARATOR = '<sep>'\n",
        "train_input, train_target = map(list, zip(*[pair.split(SEPARATOR) for pair in train]))\n",
        "\n",
        "print(train_input[:5])\n",
        "print(train_target[:5])"
      ],
      "metadata": {
        "colab": {
          "base_uri": "https://localhost:8080/"
        },
        "id": "ZiKgeW6jNdWX",
        "outputId": "3476584a-8960-4ae8-8017-c50ecfaaf07f"
      },
      "execution_count": 6,
      "outputs": [
        {
          "output_type": "stream",
          "name": "stdout",
          "text": [
            "['Teszek rá, mit mondasz!', 'Több olyan ember kell nekünk a csapatba, mint amilyen te vagy.', 'Vigyázz a gyerekeimre!', 'Miért van szüksége önöknek két kerékpárra?', 'Nincs helye a kétségnek.']\n",
            "[\"I don't care what you say.\", 'We need more people like you on our team.', 'Take care of my children.', 'Why do you need two bicycles?', \"There's no room for doubt.\"]\n"
          ]
        }
      ]
    },
    {
      "cell_type": "markdown",
      "source": [
        "## Preprocess Train Data"
      ],
      "metadata": {
        "id": "pO-AXWimN1tl"
      }
    },
    {
      "cell_type": "code",
      "source": [
        "print(\"\\u00E1\", \"\\u0061\\u0301\") # 2 different charachters "
      ],
      "metadata": {
        "colab": {
          "base_uri": "https://localhost:8080/"
        },
        "id": "lFUg-u46NwTb",
        "outputId": "4c50b6d7-eac0-4280-9f2d-537a90eb5b56"
      },
      "execution_count": 7,
      "outputs": [
        {
          "output_type": "stream",
          "name": "stdout",
          "text": [
            "á á\n"
          ]
        }
      ]
    },
    {
      "cell_type": "markdown",
      "source": [
        "Here's an informative article on the importance of Unicode normalization and how to go about it (including what _NFD_ means):<br>\n",
        "https://towardsdatascience.com/what-on-earth-is-unicode-normalization-56c005c55ad0"
      ],
      "metadata": {
        "id": "rNqu-eGzOMh3"
      }
    },
    {
      "cell_type": "code",
      "source": [
        "# Unicode normalization\n",
        "def normalize_unicode(s):\n",
        "  return ''.join(c for c in unicodedata.normalize('NFD', s)\n",
        "                  if unicodedata.category(c) != 'Mn') # Nonspacing_Mark"
      ],
      "metadata": {
        "id": "O9dkK_WTN3_8"
      },
      "execution_count": 8,
      "outputs": []
    },
    {
      "cell_type": "markdown",
      "source": [
        "We're building a **word**-based translation model, but we still want to keep punctuation and treat them as separate tokens, so we'll insert a space between any relevant punctuation and the characters around them. This way, our tokenizer (which won't filter out punctuation) will output punctuation marks as separate tokens.\n",
        "\n",
        "This function does that and unicode normalization."
      ],
      "metadata": {
        "id": "W4OdFkwVOySh"
      }
    },
    {
      "cell_type": "code",
      "source": [
        "def preprocess_sentence(s):\n",
        "  s = normalize_unicode(s)\n",
        "  s = re.sub(r\"([?.!,¿])\", r\" \\1 \", s)\n",
        "  s = re.sub(r'[\" \"]+', \" \", s)\n",
        "  s = s.strip()\n",
        "  return s\n",
        "\n",
        "# Preprocess both the source and target sentences.\n",
        "train_preprocessed_input = [preprocess_sentence(s) for s in train_input]\n",
        "train_preprocessed_target = [preprocess_sentence(s) for s in train_target]\n",
        "\n",
        "# sanity check\n",
        "train_preprocessed_input[:5]"
      ],
      "metadata": {
        "colab": {
          "base_uri": "https://localhost:8080/"
        },
        "id": "2sDGkD3bOnoc",
        "outputId": "7cf30405-97bd-4de7-cab7-1acbafa44b0b"
      },
      "execution_count": 9,
      "outputs": [
        {
          "output_type": "execute_result",
          "data": {
            "text/plain": [
              "['Teszek ra , mit mondasz !',\n",
              " 'Tobb olyan ember kell nekunk a csapatba , mint amilyen te vagy .',\n",
              " 'Vigyazz a gyerekeimre !',\n",
              " 'Miert van szuksege onoknek ket kerekparra ?',\n",
              " 'Nincs helye a ketsegnek .']"
            ]
          },
          "metadata": {},
          "execution_count": 9
        }
      ]
    },
    {
      "cell_type": "code",
      "source": [
        "# Teacher Forcing \n",
        "def tag_target_sentences(sentences):\n",
        "  tagged_sentences = map(lambda s: (' ').join(['<sos>', s, '<eos>']), sentences)\n",
        "  return list(tagged_sentences)\n",
        "\n",
        "train_tagged_preprocessed_target = tag_target_sentences(train_preprocessed_target)\n",
        "\n",
        "# sanity check\n",
        "train_tagged_preprocessed_target[:5]"
      ],
      "metadata": {
        "colab": {
          "base_uri": "https://localhost:8080/"
        },
        "id": "Kqp6V6kfPIsr",
        "outputId": "e515fa69-aad3-4cb9-9c4c-07ba2a575935"
      },
      "execution_count": 10,
      "outputs": [
        {
          "output_type": "execute_result",
          "data": {
            "text/plain": [
              "[\"<sos> I don't care what you say . <eos>\",\n",
              " '<sos> We need more people like you on our team . <eos>',\n",
              " '<sos> Take care of my children . <eos>',\n",
              " '<sos> Why do you need two bicycles ? <eos>',\n",
              " \"<sos> There's no room for doubt . <eos>\"]"
            ]
          },
          "metadata": {},
          "execution_count": 10
        }
      ]
    },
    {
      "cell_type": "markdown",
      "source": [
        "### Tokenization"
      ],
      "metadata": {
        "id": "eSgoin07Q-ru"
      }
    },
    {
      "cell_type": "code",
      "source": [
        "from tensorflow.keras.preprocessing.text import Tokenizer\n",
        "\n",
        "# Tokenizer for the Hungarian input sentences. Note how we're not filtering punctuation.\n",
        "source_tokenizer = Tokenizer(oov_token='<unk>', filters='\"#$%&()*+-/:;=@[\\\\]^_`{|}~\\t\\n')\n",
        "source_tokenizer.fit_on_texts(train_preprocessed_input)\n",
        "train_encoder_inputs = source_tokenizer.texts_to_sequences(train_preprocessed_input)\n",
        "\n",
        "source_vocab_size = len(source_tokenizer.word_index) + 1\n",
        "print(source_vocab_size)"
      ],
      "metadata": {
        "colab": {
          "base_uri": "https://localhost:8080/"
        },
        "id": "EhrLwhrnQDNb",
        "outputId": "9c2e4ae8-05bb-47e0-deac-f5463b680d62"
      },
      "execution_count": 11,
      "outputs": [
        {
          "output_type": "stream",
          "name": "stdout",
          "text": [
            "38539\n"
          ]
        }
      ]
    },
    {
      "cell_type": "code",
      "source": [
        "# sanity check\n",
        "print(train_encoder_inputs[:3])\n",
        "print(source_tokenizer.sequences_to_texts(train_encoder_inputs[:3]))"
      ],
      "metadata": {
        "colab": {
          "base_uri": "https://localhost:8080/"
        },
        "id": "qgMI0ZVmRjVd",
        "outputId": "2f407f5f-4630-4cb1-9f75-fe248ec5f3e7"
      },
      "execution_count": 12,
      "outputs": [
        {
          "output_type": "stream",
          "name": "stdout",
          "text": [
            "[[1395, 91, 4, 27, 1080, 10], [153, 56, 145, 17, 152, 3, 7232, 4, 45, 1670, 44, 23, 2], [1026, 3, 8933, 10]]\n",
            "['teszek ra , mit mondasz !', 'tobb olyan ember kell nekunk a csapatba , mint amilyen te vagy .', 'vigyazz a gyerekeimre !']\n"
          ]
        }
      ]
    },
    {
      "cell_type": "code",
      "source": [
        "# Tokenizer for the English target sentences.\n",
        "target_tokenizer = Tokenizer(oov_token='<unk>', filters='\"#$%&()*+-/:;=@[\\\\]^_`{|}~\\t\\n')\n",
        "target_tokenizer.fit_on_texts(train_tagged_preprocessed_target)\n",
        "\n",
        "target_vocab_size = len(target_tokenizer.word_index) + 1\n",
        "print(target_vocab_size)"
      ],
      "metadata": {
        "colab": {
          "base_uri": "https://localhost:8080/"
        },
        "id": "Xqef0h5SQn5M",
        "outputId": "8eab0493-74fa-4ea8-a834-53a94385c335"
      },
      "execution_count": 13,
      "outputs": [
        {
          "output_type": "stream",
          "name": "stdout",
          "text": [
            "10556\n"
          ]
        }
      ]
    },
    {
      "cell_type": "code",
      "source": [
        "# inspect special charachters\n",
        "list(target_tokenizer.word_index)[:5]"
      ],
      "metadata": {
        "colab": {
          "base_uri": "https://localhost:8080/"
        },
        "id": "n_pZZd4K9WQI",
        "outputId": "aa9ef499-d6cf-4b00-ea0e-a71bb02bdf8c"
      },
      "execution_count": 14,
      "outputs": [
        {
          "output_type": "execute_result",
          "data": {
            "text/plain": [
              "['<unk>', '<sos>', '<eos>', '.', 'i']"
            ]
          },
          "metadata": {},
          "execution_count": 14
        }
      ]
    },
    {
      "cell_type": "markdown",
      "source": [
        "For **Teacher Forcing**, we'll create two copies of each vectorized **target** sentence, with the second copy shifted over by one.\n",
        "\n",
        "The function below takes a collection of sentences, vectorizes them, then returns two copies of each. The first will include every token except the last, the second will include every token except the first."
      ],
      "metadata": {
        "id": "EYxZi7pkRyL3"
      }
    },
    {
      "cell_type": "code",
      "source": [
        "def generate_decoder_inputs_targets(sentences, tokenizer):\n",
        "  seqs = tokenizer.texts_to_sequences(sentences)\n",
        "  decoder_inputs = [s[:-1] for s in seqs] # Drop the last token in the sentence.\n",
        "  decoder_targets = [s[1:] for s in seqs] # Drop the first token in the sentence.\n",
        "\n",
        "  return decoder_inputs, decoder_targets\n",
        "\n",
        "train_decoder_inputs, train_decoder_targets = generate_decoder_inputs_targets(train_tagged_preprocessed_target, \n",
        "                                                                              target_tokenizer)"
      ],
      "metadata": {
        "id": "xwos5njdQ07c"
      },
      "execution_count": 15,
      "outputs": []
    },
    {
      "cell_type": "markdown",
      "source": [
        "Each token of a *decoder_input* sentence will be fed to the decoder as the **next** expected token, and each token of a *decoder_target* sentence will be used to calculate the loss against the decoder's actual output."
      ],
      "metadata": {
        "id": "7s9P26IgS3-6"
      }
    },
    {
      "cell_type": "code",
      "source": [
        "# sanity check\n",
        "print(train_decoder_inputs[0], train_decoder_targets[0])\n",
        "\n",
        "print(target_tokenizer.sequences_to_texts(train_decoder_inputs[:1]), \n",
        "      target_tokenizer.sequences_to_texts(train_decoder_targets[:1]))"
      ],
      "metadata": {
        "colab": {
          "base_uri": "https://localhost:8080/"
        },
        "id": "FkHK1ZqMSCsv",
        "outputId": "6b1a139a-5500-461a-fc25-1f18cc494b93"
      },
      "execution_count": 16,
      "outputs": [
        {
          "output_type": "stream",
          "name": "stdout",
          "text": [
            "[2, 5, 23, 306, 28, 7, 151, 4] [5, 23, 306, 28, 7, 151, 4, 3]\n",
            "[\"<sos> i don't care what you say .\"] [\"i don't care what you say . <eos>\"]\n"
          ]
        }
      ]
    },
    {
      "cell_type": "markdown",
      "source": [
        "### Padding"
      ],
      "metadata": {
        "id": "1sefOWJNRA7p"
      }
    },
    {
      "cell_type": "code",
      "source": [
        "# Hungarian\n",
        "max_encoding_len = len(max(train_encoder_inputs, key=len))\n",
        "max_encoding_len"
      ],
      "metadata": {
        "colab": {
          "base_uri": "https://localhost:8080/"
        },
        "id": "DFjV90N-RB17",
        "outputId": "2a45cd35-bc9b-4adb-8664-d71597e3b5b4"
      },
      "execution_count": 17,
      "outputs": [
        {
          "output_type": "execute_result",
          "data": {
            "text/plain": [
              "37"
            ]
          },
          "metadata": {},
          "execution_count": 17
        }
      ]
    },
    {
      "cell_type": "code",
      "source": [
        "# English\n",
        "max_decoding_len = len(max(train_decoder_inputs, key=len))\n",
        "max_decoding_len"
      ],
      "metadata": {
        "colab": {
          "base_uri": "https://localhost:8080/"
        },
        "id": "pCM1WFT7TGl8",
        "outputId": "4a426048-2182-45c7-afc2-36597a9d25ff"
      },
      "execution_count": 18,
      "outputs": [
        {
          "output_type": "execute_result",
          "data": {
            "text/plain": [
              "34"
            ]
          },
          "metadata": {},
          "execution_count": 18
        }
      ]
    },
    {
      "cell_type": "code",
      "source": [
        "from tensorflow.keras.preprocessing.sequence import pad_sequences\n",
        "\n",
        "padded_train_encoder_inputs = pad_sequences(train_encoder_inputs, max_encoding_len,\n",
        "                                            padding='post', truncating='post')\n",
        "padded_train_decoder_inputs = pad_sequences(train_decoder_inputs, max_decoding_len,\n",
        "                                            padding='post', truncating='post')\n",
        "padded_train_decoder_targets = pad_sequences(train_decoder_targets, max_decoding_len,\n",
        "                                             padding='post', truncating='post')\n",
        "\n",
        "# sanity check\n",
        "print(padded_train_encoder_inputs[0])\n",
        "print(padded_train_decoder_inputs[0])\n",
        "print(padded_train_decoder_targets[0])"
      ],
      "metadata": {
        "colab": {
          "base_uri": "https://localhost:8080/"
        },
        "id": "zI3AN7Y5TLCL",
        "outputId": "a82c7db8-2d9e-4571-bd1e-ca1ffc311b43"
      },
      "execution_count": 19,
      "outputs": [
        {
          "output_type": "stream",
          "name": "stdout",
          "text": [
            "[1395   91    4   27 1080   10    0    0    0    0    0    0    0    0\n",
            "    0    0    0    0    0    0    0    0    0    0    0    0    0    0\n",
            "    0    0    0    0    0    0    0    0    0]\n",
            "[  2   5  23 306  28   7 151   4   0   0   0   0   0   0   0   0   0   0\n",
            "   0   0   0   0   0   0   0   0   0   0   0   0   0   0   0   0]\n",
            "[  5  23 306  28   7 151   4   3   0   0   0   0   0   0   0   0   0   0\n",
            "   0   0   0   0   0   0   0   0   0   0   0   0   0   0   0   0]\n"
          ]
        }
      ]
    },
    {
      "cell_type": "code",
      "source": [
        "# converting a padded sequence back to text\n",
        "target_tokenizer.sequences_to_texts([padded_train_decoder_inputs[0]])"
      ],
      "metadata": {
        "colab": {
          "base_uri": "https://localhost:8080/"
        },
        "id": "iBviDHnnTbd7",
        "outputId": "e1d7aa3b-d434-410c-d5ee-5dbd911643ae"
      },
      "execution_count": 20,
      "outputs": [
        {
          "output_type": "execute_result",
          "data": {
            "text/plain": [
              "[\"<sos> i don't care what you say . <unk> <unk> <unk> <unk> <unk> <unk> <unk> <unk> <unk> <unk> <unk> <unk> <unk> <unk> <unk> <unk> <unk> <unk> <unk> <unk> <unk> <unk> <unk> <unk> <unk> <unk>\"]"
            ]
          },
          "metadata": {},
          "execution_count": 20
        }
      ]
    },
    {
      "cell_type": "markdown",
      "source": [
        "## Preprocess Validation Data"
      ],
      "metadata": {
        "id": "Fywq8NZcT2oP"
      }
    },
    {
      "cell_type": "code",
      "source": [
        "# Download validation set pairs.\n",
        "!wget https://raw.githubusercontent.com/nitinpunjabi/nlp-demystified/main/datasets/hun_eng_pairs/hun_eng_pairs_val.txt"
      ],
      "metadata": {
        "colab": {
          "base_uri": "https://localhost:8080/"
        },
        "id": "R1QuuovIT5ac",
        "outputId": "e57757ee-3880-4054-9529-b09b8ef92a7a"
      },
      "execution_count": 21,
      "outputs": [
        {
          "output_type": "stream",
          "name": "stdout",
          "text": [
            "--2023-03-28 14:50:23--  https://raw.githubusercontent.com/nitinpunjabi/nlp-demystified/main/datasets/hun_eng_pairs/hun_eng_pairs_val.txt\n",
            "Resolving raw.githubusercontent.com (raw.githubusercontent.com)... 185.199.110.133, 185.199.108.133, 185.199.111.133, ...\n",
            "Connecting to raw.githubusercontent.com (raw.githubusercontent.com)|185.199.110.133|:443... connected.\n",
            "HTTP request sent, awaiting response... 200 OK\n",
            "Length: 646226 (631K) [text/plain]\n",
            "Saving to: ‘hun_eng_pairs_val.txt’\n",
            "\n",
            "hun_eng_pairs_val.t 100%[===================>] 631.08K  --.-KB/s    in 0.04s   \n",
            "\n",
            "2023-03-28 14:50:23 (13.9 MB/s) - ‘hun_eng_pairs_val.txt’ saved [646226/646226]\n",
            "\n"
          ]
        }
      ]
    },
    {
      "cell_type": "code",
      "source": [
        "# read data\n",
        "with open('hun_eng_pairs_val.txt') as file:\n",
        "  valid = [line.rstrip() for line in file]"
      ],
      "metadata": {
        "id": "mHSxJl9jT6Jb"
      },
      "execution_count": 22,
      "outputs": []
    },
    {
      "cell_type": "code",
      "source": [
        "def process_dataset(dataset):\n",
        "\n",
        "  # Split the Hungarian and English sentences into separate lists.\n",
        "  input, output = map(list, zip(*[pair.split(SEPARATOR) for pair in dataset]))\n",
        "\n",
        "  # Unicode normalization and inserting spaces around punctuation.\n",
        "  preprocessed_input = [preprocess_sentence(s) for s in input]\n",
        "  preprocessed_output = [preprocess_sentence(s) for s in output]\n",
        "\n",
        "  # Tag target sentences with <sos> and <eos> tokens.\n",
        "  tagged_preprocessed_output = tag_target_sentences(preprocessed_output)\n",
        "\n",
        "  # Vectorize encoder source sentences.\n",
        "  encoder_inputs = source_tokenizer.texts_to_sequences(preprocessed_input)\n",
        "\n",
        "  # Vectorize and create decoder input and target sentences.\n",
        "  decoder_inputs, decoder_targets = generate_decoder_inputs_targets(tagged_preprocessed_output, \n",
        "                                                                    target_tokenizer)\n",
        "  \n",
        "  # Pad all collections.\n",
        "  padded_encoder_inputs = pad_sequences(encoder_inputs, max_encoding_len, padding='post', \n",
        "                                        truncating='post')\n",
        "  padded_decoder_inputs = pad_sequences(decoder_inputs, max_decoding_len, padding='post', \n",
        "                                        truncating='post')\n",
        "  padded_decoder_targets = pad_sequences(decoder_targets, max_decoding_len, padding='post', \n",
        "                                         truncating='post')\n",
        "\n",
        "  return padded_encoder_inputs, padded_decoder_inputs, padded_decoder_targets\n"
      ],
      "metadata": {
        "id": "giY_vqDBT8B7"
      },
      "execution_count": 23,
      "outputs": []
    },
    {
      "cell_type": "code",
      "source": [
        "# Process validation dataset\n",
        "padded_valid_encoder_inputs, padded_valid_decoder_inputs, padded_valid_decoder_targets = process_dataset(valid)"
      ],
      "metadata": {
        "id": "1WfgLMDRT9qb"
      },
      "execution_count": 24,
      "outputs": []
    },
    {
      "cell_type": "markdown",
      "source": [
        "## Model\n",
        "\n",
        "This model will have **two** inputs:<br>\n",
        "1. **The encoder** receives the source sentences (Hungarian) and generates the initial state inputs for the decoder.\n",
        "2. **The decoder** receives the decoder input sentences (English) for teacher forcing.\n",
        "<br>\n"
      ],
      "metadata": {
        "id": "M60hq9iqVJEL"
      }
    },
    {
      "cell_type": "code",
      "source": [
        "# hyperparameters\n",
        "class CFG:\n",
        "  embedding_dim = 128\n",
        "  rnn_dim = 256\n",
        "  hidden_dim = 256\n",
        "  dropout = 0.2\n",
        "  batch_size = 32\n",
        "  epochs = 30"
      ],
      "metadata": {
        "id": "QFQ62DbmWtEm"
      },
      "execution_count": 25,
      "outputs": []
    },
    {
      "cell_type": "markdown",
      "source": [
        "The LSTM always returns three values:\n",
        "\n",
        "\n",
        "When `return_sequences=False` encoder_outputs and state_h are the SAME. When `return_sequences=True` is True, encoder_outputs contains the encoder hidden states from each time step."
      ],
      "metadata": {
        "id": "3W69G4fWY5rj"
      }
    },
    {
      "cell_type": "code",
      "source": [
        "# Encoder\n",
        "\n",
        "# None or max_encoding_len\n",
        "encoder_inputs = layers.Input(shape=[None], name='encoder_inputs')\n",
        "\n",
        "encoder_embeddings = layers.Embedding(source_vocab_size, \n",
        "                                      CFG.embedding_dim,\n",
        "                                      mask_zero=True,\n",
        "                                      name='encoder_embeddings')\n",
        "\n",
        "encoder_embedding_output = encoder_embeddings(encoder_inputs)\n",
        "\n",
        "encoder_lstm = layers.LSTM(CFG.rnn_dim, \n",
        "                           return_state=True,  # return the last state\n",
        "                           dropout=CFG.dropout, \n",
        "                           name='encoder_lstm')\n",
        "\n",
        "# we won't be using encoder_outputs here\n",
        "_, state_h, state_c = encoder_lstm(encoder_embedding_output)\n",
        "encoder_states = (state_h, state_c)"
      ],
      "metadata": {
        "id": "KjyVwHIOU2KL"
      },
      "execution_count": 26,
      "outputs": []
    },
    {
      "cell_type": "markdown",
      "source": [
        "The code for specifying the decoder is similar except for three additions:\n",
        "1. The LSTM has *return_sequences* set to *True* since we'll need the hidden state outputted at each timestep.\n",
        "\n",
        "2. The decoder's LSTM takes an *initial_state*, the value for which is from the encoder.\n",
        "\n",
        "3. There's a *softmax* layer in the end to generate a probability distribution over the target (English) vocabulary."
      ],
      "metadata": {
        "id": "dPaI6TZuWOOZ"
      }
    },
    {
      "cell_type": "code",
      "source": [
        "# Decoder\n",
        "\n",
        "# None or max_decoding_len\n",
        "decoder_inputs = layers.Input(shape=[None], name='decoder_inputs')\n",
        "\n",
        "\n",
        "decoder_embeddings = layers.Embedding(target_vocab_size, \n",
        "                                      CFG.embedding_dim, \n",
        "                                      mask_zero=True,\n",
        "                                      name='decoder_embeddings')\n",
        "\n",
        "\n",
        "decoder_embedding_output = decoder_embeddings(decoder_inputs)\n",
        "\n",
        "# Return sequences set to True.\n",
        "decoder_lstm = layers.LSTM(CFG.rnn_dim,\n",
        "                           return_sequences=True,\n",
        "                           return_state=True,\n",
        "                           dropout=CFG.dropout,\n",
        "                           name='decoder_lstm')\n",
        "\n",
        "# using only decoder_outputs here\n",
        "decoder_outputs, _, _ = decoder_lstm(decoder_embedding_output, initial_state=encoder_states)\n",
        "\n",
        "decoder_dense = layers.Dense(target_vocab_size, activation='softmax', name='decoder_dense')\n",
        "\n",
        "y_proba = decoder_dense(decoder_outputs)"
      ],
      "metadata": {
        "id": "WGdkRZh4WaEy"
      },
      "execution_count": 27,
      "outputs": []
    },
    {
      "cell_type": "code",
      "source": [
        "# model\n",
        "model = tf.keras.Model(inputs=[encoder_inputs, decoder_inputs],\n",
        "                       outputs=y_proba,\n",
        "                       name='hun_eng_seq2seq_nmt_no_attention')\n",
        "\n",
        "model.compile(optimizer=tf.keras.optimizers.Adam(learning_rate=0.001, weight_decay=1e-5), \n",
        "              loss='sparse_categorical_crossentropy',  \n",
        "              metrics='sparse_categorical_accuracy')\n",
        "model.summary()"
      ],
      "metadata": {
        "colab": {
          "base_uri": "https://localhost:8080/"
        },
        "id": "e63_LaAseubs",
        "outputId": "69170194-e9b8-41cd-8288-9896cf014d0c"
      },
      "execution_count": 28,
      "outputs": [
        {
          "output_type": "stream",
          "name": "stdout",
          "text": [
            "Model: \"hun_eng_seq2seq_nmt_no_attention\"\n",
            "__________________________________________________________________________________________________\n",
            " Layer (type)                   Output Shape         Param #     Connected to                     \n",
            "==================================================================================================\n",
            " encoder_inputs (InputLayer)    [(None, None)]       0           []                               \n",
            "                                                                                                  \n",
            " decoder_inputs (InputLayer)    [(None, None)]       0           []                               \n",
            "                                                                                                  \n",
            " encoder_embeddings (Embedding)  (None, None, 128)   4932992     ['encoder_inputs[0][0]']         \n",
            "                                                                                                  \n",
            " decoder_embeddings (Embedding)  (None, None, 128)   1351168     ['decoder_inputs[0][0]']         \n",
            "                                                                                                  \n",
            " encoder_lstm (LSTM)            [(None, 256),        394240      ['encoder_embeddings[0][0]']     \n",
            "                                 (None, 256),                                                     \n",
            "                                 (None, 256)]                                                     \n",
            "                                                                                                  \n",
            " decoder_lstm (LSTM)            [(None, None, 256),  394240      ['decoder_embeddings[0][0]',     \n",
            "                                 (None, 256),                     'encoder_lstm[0][1]',           \n",
            "                                 (None, 256)]                     'encoder_lstm[0][2]']           \n",
            "                                                                                                  \n",
            " decoder_dense (Dense)          (None, None, 10556)  2712892     ['decoder_lstm[0][0]']           \n",
            "                                                                                                  \n",
            "==================================================================================================\n",
            "Total params: 9,785,532\n",
            "Trainable params: 9,785,532\n",
            "Non-trainable params: 0\n",
            "__________________________________________________________________________________________________\n"
          ]
        }
      ]
    },
    {
      "cell_type": "code",
      "source": [
        "# visualize our model\n",
        "from keras.utils.vis_utils import plot_model\n",
        "plot_model(model, show_shapes=True, show_layer_names=True)"
      ],
      "metadata": {
        "colab": {
          "base_uri": "https://localhost:8080/",
          "height": 485
        },
        "id": "XZMy982vfXr7",
        "outputId": "4c444387-6d95-4523-e133-46f224018490"
      },
      "execution_count": 29,
      "outputs": [
        {
          "output_type": "execute_result",
          "data": {
            "image/png": "[encoded data removed]",
            "text/plain": [
              "<IPython.core.display.Image object>"
            ]
          },
          "metadata": {},
          "execution_count": 29
        }
      ]
    },
    {
      "cell_type": "code",
      "source": [
        "# Saving this to a folder on my local machine.\n",
        "filepath=\"./HunEngNMTNoAttention/training1/cp.ckpt\"\n",
        "\n",
        "# Create a callback that saves the model's weights and early stops \n",
        "cp_callback = tf.keras.callbacks.ModelCheckpoint(filepath=filepath,\n",
        "                                                 save_weights_only=True,\n",
        "                                                 verbose=1)\n",
        "es_callback = tf.keras.callbacks.EarlyStopping(monitor='val_loss', patience=3)\n",
        "\n",
        "# train model\n",
        "history = model.fit([padded_train_encoder_inputs, padded_train_decoder_inputs],\n",
        "                     padded_train_decoder_targets,\n",
        "                     batch_size=CFG.batch_size,\n",
        "                     epochs=CFG.epochs,\n",
        "                     validation_data=([padded_valid_encoder_inputs, padded_valid_decoder_inputs],\n",
        "                                      padded_valid_decoder_targets),\n",
        "                     callbacks=[cp_callback, es_callback])"
      ],
      "metadata": {
        "colab": {
          "base_uri": "https://localhost:8080/"
        },
        "id": "L_-efSG4gCDG",
        "outputId": "c4d68953-94bf-49d5-ec92-2394ce6f5868"
      },
      "execution_count": 30,
      "outputs": [
        {
          "output_type": "stream",
          "name": "stdout",
          "text": [
            "Epoch 1/30\n",
            "2771/2771 [==============================] - ETA: 0s - loss: 3.8696 - sparse_categorical_accuracy: 0.3769\n",
            "Epoch 1: saving model to ./HunEngNMTNoAttention/training1/cp.ckpt\n",
            "2771/2771 [==============================] - 131s 42ms/step - loss: 3.8696 - sparse_categorical_accuracy: 0.3769 - val_loss: 3.1313 - val_sparse_categorical_accuracy: 0.4585\n",
            "Epoch 2/30\n",
            "2771/2771 [==============================] - ETA: 0s - loss: 2.7783 - sparse_categorical_accuracy: 0.4975\n",
            "Epoch 2: saving model to ./HunEngNMTNoAttention/training1/cp.ckpt\n",
            "2771/2771 [==============================] - 95s 34ms/step - loss: 2.7783 - sparse_categorical_accuracy: 0.4975 - val_loss: 2.5885 - val_sparse_categorical_accuracy: 0.5285\n",
            "Epoch 3/30\n",
            "2771/2771 [==============================] - ETA: 0s - loss: 2.2359 - sparse_categorical_accuracy: 0.5648\n",
            "Epoch 3: saving model to ./HunEngNMTNoAttention/training1/cp.ckpt\n",
            "2771/2771 [==============================] - 98s 36ms/step - loss: 2.2359 - sparse_categorical_accuracy: 0.5648 - val_loss: 2.2782 - val_sparse_categorical_accuracy: 0.5759\n",
            "Epoch 4/30\n",
            "2771/2771 [==============================] - ETA: 0s - loss: 1.8440 - sparse_categorical_accuracy: 0.6191\n",
            "Epoch 4: saving model to ./HunEngNMTNoAttention/training1/cp.ckpt\n",
            "2771/2771 [==============================] - 94s 34ms/step - loss: 1.8440 - sparse_categorical_accuracy: 0.6191 - val_loss: 2.0911 - val_sparse_categorical_accuracy: 0.6088\n",
            "Epoch 5/30\n",
            "2771/2771 [==============================] - ETA: 0s - loss: 1.5448 - sparse_categorical_accuracy: 0.6643\n",
            "Epoch 5: saving model to ./HunEngNMTNoAttention/training1/cp.ckpt\n",
            "2771/2771 [==============================] - 93s 34ms/step - loss: 1.5448 - sparse_categorical_accuracy: 0.6643 - val_loss: 1.9742 - val_sparse_categorical_accuracy: 0.6304\n",
            "Epoch 6/30\n",
            "2771/2771 [==============================] - ETA: 0s - loss: 1.3097 - sparse_categorical_accuracy: 0.7031\n",
            "Epoch 6: saving model to ./HunEngNMTNoAttention/training1/cp.ckpt\n",
            "2771/2771 [==============================] - 99s 36ms/step - loss: 1.3097 - sparse_categorical_accuracy: 0.7031 - val_loss: 1.9053 - val_sparse_categorical_accuracy: 0.6474\n",
            "Epoch 7/30\n",
            "2771/2771 [==============================] - ETA: 0s - loss: 1.1230 - sparse_categorical_accuracy: 0.7365\n",
            "Epoch 7: saving model to ./HunEngNMTNoAttention/training1/cp.ckpt\n",
            "2771/2771 [==============================] - 94s 34ms/step - loss: 1.1230 - sparse_categorical_accuracy: 0.7365 - val_loss: 1.8701 - val_sparse_categorical_accuracy: 0.6570\n",
            "Epoch 8/30\n",
            "2771/2771 [==============================] - ETA: 0s - loss: 0.9753 - sparse_categorical_accuracy: 0.7654\n",
            "Epoch 8: saving model to ./HunEngNMTNoAttention/training1/cp.ckpt\n",
            "2771/2771 [==============================] - 94s 34ms/step - loss: 0.9753 - sparse_categorical_accuracy: 0.7654 - val_loss: 1.8399 - val_sparse_categorical_accuracy: 0.6647\n",
            "Epoch 9/30\n",
            "2771/2771 [==============================] - ETA: 0s - loss: 0.8540 - sparse_categorical_accuracy: 0.7903\n",
            "Epoch 9: saving model to ./HunEngNMTNoAttention/training1/cp.ckpt\n",
            "2771/2771 [==============================] - 93s 34ms/step - loss: 0.8540 - sparse_categorical_accuracy: 0.7903 - val_loss: 1.8357 - val_sparse_categorical_accuracy: 0.6701\n",
            "Epoch 10/30\n",
            "2771/2771 [==============================] - ETA: 0s - loss: 0.7572 - sparse_categorical_accuracy: 0.8099\n",
            "Epoch 10: saving model to ./HunEngNMTNoAttention/training1/cp.ckpt\n",
            "2771/2771 [==============================] - 93s 34ms/step - loss: 0.7572 - sparse_categorical_accuracy: 0.8099 - val_loss: 1.8280 - val_sparse_categorical_accuracy: 0.6760\n",
            "Epoch 11/30\n",
            "2771/2771 [==============================] - ETA: 0s - loss: 0.6773 - sparse_categorical_accuracy: 0.8273\n",
            "Epoch 11: saving model to ./HunEngNMTNoAttention/training1/cp.ckpt\n",
            "2771/2771 [==============================] - 93s 33ms/step - loss: 0.6773 - sparse_categorical_accuracy: 0.8273 - val_loss: 1.8460 - val_sparse_categorical_accuracy: 0.6786\n",
            "Epoch 12/30\n",
            "2769/2771 [============================>.] - ETA: 0s - loss: 0.6120 - sparse_categorical_accuracy: 0.8414\n",
            "Epoch 12: saving model to ./HunEngNMTNoAttention/training1/cp.ckpt\n",
            "2771/2771 [==============================] - 92s 33ms/step - loss: 0.6120 - sparse_categorical_accuracy: 0.8414 - val_loss: 1.8569 - val_sparse_categorical_accuracy: 0.6798\n",
            "Epoch 13/30\n",
            "2771/2771 [==============================] - ETA: 0s - loss: 0.5578 - sparse_categorical_accuracy: 0.8533\n",
            "Epoch 13: saving model to ./HunEngNMTNoAttention/training1/cp.ckpt\n",
            "2771/2771 [==============================] - 92s 33ms/step - loss: 0.5578 - sparse_categorical_accuracy: 0.8533 - val_loss: 1.8669 - val_sparse_categorical_accuracy: 0.6842\n"
          ]
        }
      ]
    },
    {
      "cell_type": "code",
      "source": [
        "# save the model and tokenizers\n",
        "\n",
        "###### Save the model.\n",
        "# model.save('hun_eng_s2s_nmt_no_attention')\n",
        "\n",
        "\n",
        "###### Zip and download the model.\n",
        "# !zip -r ./hun_eng_s2s_nmt_no_attention.zip ./hun_eng_s2s_nmt_no_attention\n",
        "# files.download(\"./hun_eng_s2s_nmt_no_attention.zip\")\n",
        "\n",
        "\n",
        "###### Save the tokenizers as JSON files. The resulting files can be downloaded by left-clicking on them.\n",
        "# source_tokenizer_json = source_tokenizer.to_json()\n",
        "# with io.open('source_tokenizer.json', 'w', encoding='utf-8') as f:\n",
        "#   f.write(json.dumps(source_tokenizer_json, ensure_ascii=False))\n",
        "\n",
        "# target_tokenizer_json = target_tokenizer.to_json()\n",
        "# with io.open('target_tokenizer.json', 'w', encoding='utf-8') as f:\n",
        "#   f.write(json.dumps(target_tokenizer_json, ensure_ascii=False))"
      ],
      "metadata": {
        "id": "vhv_fzSjggSc"
      },
      "execution_count": 31,
      "outputs": []
    },
    {
      "cell_type": "code",
      "source": [
        "# # load the model and tokenizers\n",
        "# with open('source_tokenizer.json') as f:\n",
        "#     data = json.load(f)\n",
        "#     source_tokenizer = tf.keras.preprocessing.text.tokenizer_from_json(data)\n",
        "\n",
        "# with open('target_tokenizer.json') as f:\n",
        "#     data = json.load(f)\n",
        "#     target_tokenizer = tf.keras.preprocessing.text.tokenizer_from_json(data)"
      ],
      "metadata": {
        "id": "a-UbIhpEnF19"
      },
      "execution_count": 32,
      "outputs": []
    },
    {
      "cell_type": "code",
      "source": [
        "# # Load the model.\n",
        "# model = tf.keras.models.load_model('hun_eng_s2s_nmt_no_attention')"
      ],
      "metadata": {
        "id": "V0Of-j_DnP4V"
      },
      "execution_count": 33,
      "outputs": []
    },
    {
      "cell_type": "markdown",
      "source": [
        "## Evalute model using test data"
      ],
      "metadata": {
        "id": "09165aE260as"
      }
    },
    {
      "cell_type": "code",
      "source": [
        "# Retrieve the test dataset.\n",
        "!wget https://raw.githubusercontent.com/nitinpunjabi/nlp-demystified/main/datasets/hun_eng_pairs/hun_eng_pairs_test.txt"
      ],
      "metadata": {
        "colab": {
          "base_uri": "https://localhost:8080/"
        },
        "id": "HNd1EDEVnR-Z",
        "outputId": "cb49d140-1586-449f-bd4d-9c09ef14cfdd"
      },
      "execution_count": 34,
      "outputs": [
        {
          "output_type": "stream",
          "name": "stdout",
          "text": [
            "--2023-03-28 15:11:31--  https://raw.githubusercontent.com/nitinpunjabi/nlp-demystified/main/datasets/hun_eng_pairs/hun_eng_pairs_test.txt\n",
            "Resolving raw.githubusercontent.com (raw.githubusercontent.com)... 185.199.111.133, 185.199.109.133, 185.199.108.133, ...\n",
            "Connecting to raw.githubusercontent.com (raw.githubusercontent.com)|185.199.111.133|:443... connected.\n",
            "HTTP request sent, awaiting response... 200 OK\n",
            "Length: 646226 (631K) [text/plain]\n",
            "Saving to: ‘hun_eng_pairs_test.txt’\n",
            "\n",
            "hun_eng_pairs_test. 100%[===================>] 631.08K  --.-KB/s    in 0.04s   \n",
            "\n",
            "2023-03-28 15:11:31 (14.0 MB/s) - ‘hun_eng_pairs_test.txt’ saved [646226/646226]\n",
            "\n"
          ]
        }
      ]
    },
    {
      "cell_type": "code",
      "source": [
        "with open('hun_eng_pairs_test.txt') as file:\n",
        "  test = [line.rstrip() for line in file]\n",
        "\n",
        "test[:5]"
      ],
      "metadata": {
        "colab": {
          "base_uri": "https://localhost:8080/"
        },
        "id": "j4X89a0RnTEp",
        "outputId": "ce3f8e36-9b8e-4b32-c9f8-0c17076bb4d7"
      },
      "execution_count": 35,
      "outputs": [
        {
          "output_type": "execute_result",
          "data": {
            "text/plain": [
              "['Abbahagyhatom, ha zavar.<sep>If it bothers you, I can stop doing this.',\n",
              " 'Nős voltam.<sep>I was married.',\n",
              " 'Ez a zene az idegeire megy.<sep>That music gets on his nerves.',\n",
              " \"Nem tűnik úgy, hogy egyetértenél.<sep>You don't seem to agree.\",\n",
              " 'Mennyibe kerül?<sep>What does that cost?']"
            ]
          },
          "metadata": {},
          "execution_count": 35
        }
      ]
    },
    {
      "cell_type": "code",
      "source": [
        "# Preprocess test dataset\n",
        "padded_test_encoder_inputs, padded_test_decoder_inputs, padded_test_decoder_targets = process_dataset(test)"
      ],
      "metadata": {
        "id": "oNzIYHNNnUvq"
      },
      "execution_count": 36,
      "outputs": []
    },
    {
      "cell_type": "code",
      "source": [
        "# Evaluate the model on the test set.\n",
        "model.evaluate([padded_test_encoder_inputs, padded_test_decoder_inputs], padded_test_decoder_targets)"
      ],
      "metadata": {
        "colab": {
          "base_uri": "https://localhost:8080/"
        },
        "id": "nvyzV3rInaGy",
        "outputId": "81e5f1aa-a4e2-4c9f-b639-fbcb7c74bc60"
      },
      "execution_count": 37,
      "outputs": [
        {
          "output_type": "stream",
          "name": "stdout",
          "text": [
            "326/326 [==============================] - 6s 19ms/step - loss: 1.8669 - sparse_categorical_accuracy: 0.6842\n"
          ]
        },
        {
          "output_type": "execute_result",
          "data": {
            "text/plain": [
              "[1.8668562173843384, 0.6841802000999451]"
            ]
          },
          "metadata": {},
          "execution_count": 37
        }
      ]
    },
    {
      "cell_type": "markdown",
      "source": [
        "## Inference\n",
        "\n",
        "Our training model uses teacher forcing, but that won't be the case for inference. So we'll take the trained layers from our training model, and create **separate**, stand-alone encoder and decoder models. This will give us much greater control over how the output is created as we'll see. (e.g. feeding the current output as the input to the next time step)."
      ],
      "metadata": {
        "id": "wknQH4-foeWF"
      }
    },
    {
      "cell_type": "code",
      "source": [
        "# These are the layers of our trained model.\n",
        "[layer.name for layer in model.layers]"
      ],
      "metadata": {
        "colab": {
          "base_uri": "https://localhost:8080/"
        },
        "id": "ueqoehPivcTb",
        "outputId": "c0a9ab61-a2ec-4ca1-fbe5-4844b3d679a4"
      },
      "execution_count": 38,
      "outputs": [
        {
          "output_type": "execute_result",
          "data": {
            "text/plain": [
              "['encoder_inputs',\n",
              " 'decoder_inputs',\n",
              " 'encoder_embeddings',\n",
              " 'decoder_embeddings',\n",
              " 'encoder_lstm',\n",
              " 'decoder_lstm',\n",
              " 'decoder_dense']"
            ]
          },
          "metadata": {},
          "execution_count": 38
        }
      ]
    },
    {
      "cell_type": "markdown",
      "source": [
        "Creating a stand-alone encoder is just a matter of retrieving the trained layers by name and re-creating the graph.\n",
        "\n",
        "The major difference here is the last line where we're calling *tf.keras.Model* to create a stand-alone encoder with *encoder_inputs* as the input and *encoder_states* as the output.<br>"
      ],
      "metadata": {
        "id": "eUlYVtxXv1h-"
      }
    },
    {
      "cell_type": "code",
      "source": [
        "# stand-alone encoder\n",
        "encoder_inputs = model.get_layer('encoder_inputs').input\n",
        "encoder_embedding_layer = model.get_layer('encoder_embeddings')\n",
        "encoder_embeddings = encoder_embedding_layer(encoder_inputs)\n",
        "\n",
        "encoder_lstm = model.get_layer('encoder_lstm')\n",
        "_, encoder_state_h, encoder_state_c = encoder_lstm(encoder_embeddings)\n",
        "encoder_states = [encoder_state_h, encoder_state_c]\n",
        "\n",
        "# Our stand-alone encoder model. encoder_inputs is the input to the encoder,\n",
        "# and encoder_states is the expected output.\n",
        "encoder_model_no_attention = tf.keras.Model(encoder_inputs, encoder_states)"
      ],
      "metadata": {
        "id": "YAAOWRXsv2Kk"
      },
      "execution_count": 39,
      "outputs": []
    },
    {
      "cell_type": "code",
      "source": [
        "plot_model(encoder_model_no_attention, show_shapes=True, show_layer_names=True)"
      ],
      "metadata": {
        "colab": {
          "base_uri": "https://localhost:8080/",
          "height": 312
        },
        "id": "2zgZQqFrw0px",
        "outputId": "24ad1682-e718-46da-8b6f-85da812888fa"
      },
      "execution_count": 40,
      "outputs": [
        {
          "output_type": "execute_result",
          "data": {
            "image/png": "[encoded data removed]",
            "text/plain": [
              "<IPython.core.display.Image object>"
            ]
          },
          "metadata": {},
          "execution_count": 40
        }
      ]
    },
    {
      "cell_type": "markdown",
      "source": [
        "Creating the decoder is similar. The major difference here is that there are two additional inputs to the decoder representing its LSTM hidden state (*decoder_input_state_h*) and cell state (*decoder_input_state_c*), respectively.\n",
        "<br><br>\n",
        "They are there because the encoder and decoder are now separate models, so we'll manually take the encoder's output (its final states) and use them as the decoder's initial state. From there, at each time step, we'll take the decoder's state outputs and feed them to the next time step.\n",
        "<br><br>\n",
        "The stand-alone decoder now takes as input:\n",
        "- Either the '\\<sos\\>' token (at the beginning) or the output from the previous timestep. Either way, it'll now take only one token at a time.\n",
        "- Hidden and cell states, either from the encoder initially or from the decoder's last time step.\n",
        "<br>\n",
        "\n",
        "And it outputs a probability distribution for the current output, and new hidden and cell states."
      ],
      "metadata": {
        "id": "XENa01dowxRx"
      }
    },
    {
      "cell_type": "code",
      "source": [
        "decoder_inputs = model.get_layer('decoder_inputs').input\n",
        "decoder_embedding_layer = model.get_layer('decoder_embeddings')\n",
        "decoder_embeddings = decoder_embedding_layer(decoder_inputs)\n",
        "\n",
        "# Inputs to represent the decoder's LSTM hidden and cell states. We'll populate \n",
        "# these manually using the encoder's output for the initial state.\n",
        "decoder_input_state_h = tf.keras.Input(shape=(CFG.rnn_dim, ), name='decoder_input_state_h')\n",
        "decoder_input_state_c = tf.keras.Input(shape=(CFG.rnn_dim, ), name='decoder_input_state_c')\n",
        "decoder_input_states = [decoder_input_state_h, decoder_input_state_c]\n",
        "\n",
        "decoder_lstm = model.get_layer('decoder_lstm')\n",
        "decoder_sequence_outputs, decoder_output_state_h, decoder_output_state_c = decoder_lstm(\n",
        "    decoder_embeddings, initial_state=decoder_input_states\n",
        "    )\n",
        "\n",
        "# Update hidden and cell states for the next time step.\n",
        "decoder_output_states = [decoder_output_state_h, decoder_output_state_c]\n",
        "\n",
        "decoder_dense = model.get_layer('decoder_dense')\n",
        "y_proba = decoder_dense(decoder_sequence_outputs)\n",
        "\n",
        "decoder_model_no_attention = tf.keras.Model(\n",
        "    [decoder_inputs] + decoder_input_states,\n",
        "    [y_proba] + decoder_output_states\n",
        ")"
      ],
      "metadata": {
        "id": "ThXKm78_vcQz"
      },
      "execution_count": 41,
      "outputs": []
    },
    {
      "cell_type": "code",
      "source": [
        "plot_model(decoder_model_no_attention, show_shapes=True, show_layer_names=True)"
      ],
      "metadata": {
        "colab": {
          "base_uri": "https://localhost:8080/",
          "height": 303
        },
        "id": "dkm6ssPMvcNd",
        "outputId": "6b9782b0-d379-480c-e1be-206646dba7ef"
      },
      "execution_count": 42,
      "outputs": [
        {
          "output_type": "execute_result",
          "data": {
            "image/png": "[encoded data removed]",
            "text/plain": [
              "<IPython.core.display.Image object>"
            ]
          },
          "metadata": {},
          "execution_count": 42
        }
      ]
    },
    {
      "cell_type": "markdown",
      "source": [
        "The method below translates a sentence from the source language to the target language. It encodes the source sentence as usual, then feeds the encoder's state outputs and the \\<sos\\> token into the decoder.\n",
        "<br><br>\n",
        "The decoder's outputs (the resulting word and its hidden/cell states) are then fed back to the decoder at the next time step. This continues until either a max word limit is reached or an \\<eos\\> token is generated."
      ],
      "metadata": {
        "id": "hk_hxVhMyt9z"
      }
    },
    {
      "cell_type": "code",
      "source": [
        "def translate_without_attention(sentence: str, \n",
        "                                source_tokenizer, encoder,\n",
        "                                target_tokenizer, decoder,\n",
        "                                length = 30):\n",
        "\n",
        "  # Vectorize the source sentence and run it through the encoder.    \n",
        "  input_seq = source_tokenizer.texts_to_sequences([sentence])\n",
        "\n",
        "  # Get the tokenized sentence to see if there are any unknown tokens.\n",
        "  tokenized_sentence = source_tokenizer.sequences_to_texts(input_seq)\n",
        "\n",
        "  states = encoder.predict(input_seq, verbose=0)  \n",
        "\n",
        "  current_word = '<sos>'\n",
        "  decoded_sentence = []\n",
        "\n",
        "  while len(decoded_sentence) < length:\n",
        "    \n",
        "    # Set the next input word for the decoder.\n",
        "    target_seq = np.zeros((1,1))\n",
        "    target_seq[0, 0] = target_tokenizer.word_index[current_word]\n",
        "    \n",
        "    # Determine the next word.\n",
        "    target_y_proba, h, c = decoder.predict([target_seq] + states, verbose=0)\n",
        "    target_token_index = np.argmax(target_y_proba[0, -1, :])\n",
        "    current_word = target_tokenizer.index_word[target_token_index]\n",
        "\n",
        "    if (current_word == '<eos>'):\n",
        "      break\n",
        "\n",
        "    decoded_sentence.append(current_word)\n",
        "    states = [h, c]\n",
        "  \n",
        "  return tokenized_sentence[0], ' '.join(decoded_sentence)\n"
      ],
      "metadata": {
        "id": "KxkAkXF3ytxu"
      },
      "execution_count": 43,
      "outputs": []
    },
    {
      "cell_type": "code",
      "source": [
        "# sample a bunch of sentences from the test dataset and translate them\n",
        "sentences = random.sample(test, 15)\n",
        "sentences"
      ],
      "metadata": {
        "colab": {
          "base_uri": "https://localhost:8080/"
        },
        "id": "ocU0w9AKytud",
        "outputId": "9857d1ad-7ba7-4af7-b068-329b43403dd0"
      },
      "execution_count": 44,
      "outputs": [
        {
          "output_type": "execute_result",
          "data": {
            "text/plain": [
              "['Tomi gyakran tesz fahéjat a kávéjába.<sep>Tom often puts cinnamon in his coffee.',\n",
              " 'Tomit tönkretették.<sep>Tom is ruined.',\n",
              " 'Hagytam Tomit nyerni.<sep>I let Tom win.',\n",
              " 'Ők valahol máshol voltak.<sep>They were somewhere else.',\n",
              " \"Nem engedhetik meg maguknak.<sep>They can't afford it.\",\n",
              " 'Hozd be, Tom!<sep>Bring it in, Tom.',\n",
              " 'Önnek van valamije, ami nekem kell.<sep>You have something I need.',\n",
              " 'Tomi egy politikus.<sep>Tom is a politician.',\n",
              " 'Hiányzik anyu!<sep>I miss my mom.',\n",
              " 'Fáradtak a szemeim.<sep>My eyes are tired.',\n",
              " 'Ülj fel a bicajodra!<sep>Get on your bike.',\n",
              " 'Azt gondolom, hogy Tomi fél tőled.<sep>I think Tom is afraid of you.',\n",
              " \"Művészi vagy.<sep>You're artistic.\",\n",
              " 'A két férfi egymást okolta a bűncselekményért.<sep>The two men blamed each other for the crime.',\n",
              " 'Nem tudnak semmit.<sep>They know nothing.']"
            ]
          },
          "metadata": {},
          "execution_count": 44
        }
      ]
    },
    {
      "cell_type": "code",
      "source": [
        "def translate_sentences(sentences, translation_func,\n",
        "                        source_tokenizer, encoder,\n",
        "                        target_tokenizer, decoder):\n",
        "  translations = {'Tokenized Original': [], 'Reference': [], 'Translation': []}\n",
        "\n",
        "  for s in sentences:\n",
        "    source, target = s.split(SEPARATOR)\n",
        "    source = preprocess_sentence(source)\n",
        "    tokenized_sentence, translated = translation_func(source, source_tokenizer, encoder,\n",
        "                                                      target_tokenizer, decoder)\n",
        "\n",
        "    translations['Tokenized Original'].append(tokenized_sentence)\n",
        "    translations['Reference'].append(target)\n",
        "    translations['Translation'].append(translated)\n",
        "  \n",
        "  return translations"
      ],
      "metadata": {
        "id": "mShB-Re91biz"
      },
      "execution_count": 45,
      "outputs": []
    },
    {
      "cell_type": "code",
      "source": [
        "from nltk.translate.bleu_score import sentence_bleu\n",
        "\n",
        "# define the bleu scores function\n",
        "def calculate_bleu(row):\n",
        "    \"\"\"\n",
        "    Calculates the BLEU score for a candidate sentence\n",
        "    compared to a reference sentence.\n",
        "    \"\"\"\n",
        "    reference = [row['Reference'].split()]\n",
        "    candidate = row['Translation'].split()\n",
        "    return sentence_bleu(reference, candidate)"
      ],
      "metadata": {
        "id": "ZfUJyOQkEpYN"
      },
      "execution_count": 48,
      "outputs": []
    },
    {
      "cell_type": "code",
      "source": [
        "# load the results into a Pandas DataFrame for easier viewing.\n",
        "translations_no_attention = pd.DataFrame(translate_sentences(sentences, translate_without_attention,\n",
        "                                                             source_tokenizer, encoder_model_no_attention,\n",
        "                                                             target_tokenizer, decoder_model_no_attention))\n",
        "translations_no_attention['BLEU Score'] = translations_no_attention.apply(calculate_bleu, axis=1)\n",
        "print(translations_no_attention['BLEU Score'].mean())\n",
        "translations_no_attention"
      ],
      "metadata": {
        "colab": {
          "base_uri": "https://localhost:8080/",
          "height": 755
        },
        "id": "ruh2nry41bgC",
        "outputId": "d44457fc-df88-4015-c081-a4bbb1d3e667"
      },
      "execution_count": 49,
      "outputs": [
        {
          "output_type": "stream",
          "name": "stdout",
          "text": [
            "3.1983981546086295e-79\n"
          ]
        },
        {
          "output_type": "execute_result",
          "data": {
            "text/plain": [
              "                       Tokenized Original  \\\n",
              "0    tomi gyakran tesz <unk> a kavejaba .   \n",
              "1                    tomit tonkretettek .   \n",
              "2                  hagytam tomit nyerni .   \n",
              "3              ok valahol mashol voltak .   \n",
              "4           nem engedhetik meg maguknak .   \n",
              "5                         hozd be , tom !   \n",
              "6   onnek van valamije , ami nekem kell .   \n",
              "7                    tomi egy politikus .   \n",
              "8                         hianyzik anyu !   \n",
              "9                      faradtak a <unk> .   \n",
              "10                      ulj fel a <unk> !   \n",
              "11   azt gondolom , hogy tomi fel toled .   \n",
              "12                         muveszi vagy .   \n",
              "13   a ket ferfi egymast okolta a <unk> .   \n",
              "14                    nem tudnak semmit .   \n",
              "\n",
              "                                       Reference  \\\n",
              "0         Tom often puts cinnamon in his coffee.   \n",
              "1                                 Tom is ruined.   \n",
              "2                                 I let Tom win.   \n",
              "3                      They were somewhere else.   \n",
              "4                          They can't afford it.   \n",
              "5                              Bring it in, Tom.   \n",
              "6                     You have something I need.   \n",
              "7                           Tom is a politician.   \n",
              "8                                 I miss my mom.   \n",
              "9                             My eyes are tired.   \n",
              "10                             Get on your bike.   \n",
              "11                 I think Tom is afraid of you.   \n",
              "12                              You're artistic.   \n",
              "13  The two men blamed each other for the crime.   \n",
              "14                            They know nothing.   \n",
              "\n",
              "                                          Translation     BLEU Score  \n",
              "0        tom often puts his coffee without his mind .  6.739372e-155  \n",
              "1                                  tom is exhausted .  1.288230e-231  \n",
              "2                                     i let tom win .  1.218332e-231  \n",
              "3                          they were somewhere else .  8.388266e-155  \n",
              "4                                it's not clear yet .   0.000000e+00  \n",
              "5                                      get it , tom .  1.218332e-231  \n",
              "6                       i have to have my important .  1.120041e-231  \n",
              "7                                    tom is a thief .  8.388266e-155  \n",
              "8                                        i envy him .   0.000000e+00  \n",
              "9                                    they all tired .   0.000000e+00  \n",
              "10                               sit in the kitchen .   0.000000e+00  \n",
              "11                      i think tom is afraid of me .   4.797597e-78  \n",
              "12                                        you're on .   0.000000e+00  \n",
              "13  the two ladies are filled with the enemy or ea...  6.223630e-155  \n",
              "14                         they can't find anything .   0.000000e+00  "
            ],
            "text/html": [
              "\n",
              "  <div id=\"df-76e1be27-9364-455b-a5a9-e8f0badc73b0\">\n",
              "    <div class=\"colab-df-container\">\n",
              "      <div>\n",
              "<style scoped>\n",
              "    .dataframe tbody tr th:only-of-type {\n",
              "        vertical-align: middle;\n",
              "    }\n",
              "\n",
              "    .dataframe tbody tr th {\n",
              "        vertical-align: top;\n",
              "    }\n",
              "\n",
              "    .dataframe thead th {\n",
              "        text-align: right;\n",
              "    }\n",
              "</style>\n",
              "<table border=\"1\" class=\"dataframe\">\n",
              "  <thead>\n",
              "    <tr style=\"text-align: right;\">\n",
              "      <th></th>\n",
              "      <th>Tokenized Original</th>\n",
              "      <th>Reference</th>\n",
              "      <th>Translation</th>\n",
              "      <th>BLEU Score</th>\n",
              "    </tr>\n",
              "  </thead>\n",
              "  <tbody>\n",
              "    <tr>\n",
              "      <th>0</th>\n",
              "      <td>tomi gyakran tesz &lt;unk&gt; a kavejaba .</td>\n",
              "      <td>Tom often puts cinnamon in his coffee.</td>\n",
              "      <td>tom often puts his coffee without his mind .</td>\n",
              "      <td>6.739372e-155</td>\n",
              "    </tr>\n",
              "    <tr>\n",
              "      <th>1</th>\n",
              "      <td>tomit tonkretettek .</td>\n",
              "      <td>Tom is ruined.</td>\n",
              "      <td>tom is exhausted .</td>\n",
              "      <td>1.288230e-231</td>\n",
              "    </tr>\n",
              "    <tr>\n",
              "      <th>2</th>\n",
              "      <td>hagytam tomit nyerni .</td>\n",
              "      <td>I let Tom win.</td>\n",
              "      <td>i let tom win .</td>\n",
              "      <td>1.218332e-231</td>\n",
              "    </tr>\n",
              "    <tr>\n",
              "      <th>3</th>\n",
              "      <td>ok valahol mashol voltak .</td>\n",
              "      <td>They were somewhere else.</td>\n",
              "      <td>they were somewhere else .</td>\n",
              "      <td>8.388266e-155</td>\n",
              "    </tr>\n",
              "    <tr>\n",
              "      <th>4</th>\n",
              "      <td>nem engedhetik meg maguknak .</td>\n",
              "      <td>They can't afford it.</td>\n",
              "      <td>it's not clear yet .</td>\n",
              "      <td>0.000000e+00</td>\n",
              "    </tr>\n",
              "    <tr>\n",
              "      <th>5</th>\n",
              "      <td>hozd be , tom !</td>\n",
              "      <td>Bring it in, Tom.</td>\n",
              "      <td>get it , tom .</td>\n",
              "      <td>1.218332e-231</td>\n",
              "    </tr>\n",
              "    <tr>\n",
              "      <th>6</th>\n",
              "      <td>onnek van valamije , ami nekem kell .</td>\n",
              "      <td>You have something I need.</td>\n",
              "      <td>i have to have my important .</td>\n",
              "      <td>1.120041e-231</td>\n",
              "    </tr>\n",
              "    <tr>\n",
              "      <th>7</th>\n",
              "      <td>tomi egy politikus .</td>\n",
              "      <td>Tom is a politician.</td>\n",
              "      <td>tom is a thief .</td>\n",
              "      <td>8.388266e-155</td>\n",
              "    </tr>\n",
              "    <tr>\n",
              "      <th>8</th>\n",
              "      <td>hianyzik anyu !</td>\n",
              "      <td>I miss my mom.</td>\n",
              "      <td>i envy him .</td>\n",
              "      <td>0.000000e+00</td>\n",
              "    </tr>\n",
              "    <tr>\n",
              "      <th>9</th>\n",
              "      <td>faradtak a &lt;unk&gt; .</td>\n",
              "      <td>My eyes are tired.</td>\n",
              "      <td>they all tired .</td>\n",
              "      <td>0.000000e+00</td>\n",
              "    </tr>\n",
              "    <tr>\n",
              "      <th>10</th>\n",
              "      <td>ulj fel a &lt;unk&gt; !</td>\n",
              "      <td>Get on your bike.</td>\n",
              "      <td>sit in the kitchen .</td>\n",
              "      <td>0.000000e+00</td>\n",
              "    </tr>\n",
              "    <tr>\n",
              "      <th>11</th>\n",
              "      <td>azt gondolom , hogy tomi fel toled .</td>\n",
              "      <td>I think Tom is afraid of you.</td>\n",
              "      <td>i think tom is afraid of me .</td>\n",
              "      <td>4.797597e-78</td>\n",
              "    </tr>\n",
              "    <tr>\n",
              "      <th>12</th>\n",
              "      <td>muveszi vagy .</td>\n",
              "      <td>You're artistic.</td>\n",
              "      <td>you're on .</td>\n",
              "      <td>0.000000e+00</td>\n",
              "    </tr>\n",
              "    <tr>\n",
              "      <th>13</th>\n",
              "      <td>a ket ferfi egymast okolta a &lt;unk&gt; .</td>\n",
              "      <td>The two men blamed each other for the crime.</td>\n",
              "      <td>the two ladies are filled with the enemy or ea...</td>\n",
              "      <td>6.223630e-155</td>\n",
              "    </tr>\n",
              "    <tr>\n",
              "      <th>14</th>\n",
              "      <td>nem tudnak semmit .</td>\n",
              "      <td>They know nothing.</td>\n",
              "      <td>they can't find anything .</td>\n",
              "      <td>0.000000e+00</td>\n",
              "    </tr>\n",
              "  </tbody>\n",
              "</table>\n",
              "</div>\n",
              "      <button class=\"colab-df-convert\" onclick=\"convertToInteractive('df-76e1be27-9364-455b-a5a9-e8f0badc73b0')\"\n",
              "              title=\"Convert this dataframe to an interactive table.\"\n",
              "              style=\"display:none;\">\n",
              "        \n",
              "  <svg xmlns=\"http://www.w3.org/2000/svg\" height=\"24px\"viewBox=\"0 0 24 24\"\n",
              "       width=\"24px\">\n",
              "    <path d=\"M0 0h24v24H0V0z\" fill=\"none\"/>\n",
              "    <path d=\"M18.56 5.44l.94 2.06.94-2.06 2.06-.94-2.06-.94-.94-2.06-.94 2.06-2.06.94zm-11 1L8.5 8.5l.94-2.06 2.06-.94-2.06-.94L8.5 2.5l-.94 2.06-2.06.94zm10 10l.94 2.06.94-2.06 2.06-.94-2.06-.94-.94-2.06-.94 2.06-2.06.94z\"/><path d=\"M17.41 7.96l-1.37-1.37c-.4-.4-.92-.59-1.43-.59-.52 0-1.04.2-1.43.59L10.3 9.45l-7.72 7.72c-.78.78-.78 2.05 0 2.83L4 21.41c.39.39.9.59 1.41.59.51 0 1.02-.2 1.41-.59l7.78-7.78 2.81-2.81c.8-.78.8-2.07 0-2.86zM5.41 20L4 18.59l7.72-7.72 1.47 1.35L5.41 20z\"/>\n",
              "  </svg>\n",
              "      </button>\n",
              "      \n",
              "  <style>\n",
              "    .colab-df-container {\n",
              "      display:flex;\n",
              "      flex-wrap:wrap;\n",
              "      gap: 12px;\n",
              "    }\n",
              "\n",
              "    .colab-df-convert {\n",
              "      background-color: #E8F0FE;\n",
              "      border: none;\n",
              "      border-radius: 50%;\n",
              "      cursor: pointer;\n",
              "      display: none;\n",
              "      fill: #1967D2;\n",
              "      height: 32px;\n",
              "      padding: 0 0 0 0;\n",
              "      width: 32px;\n",
              "    }\n",
              "\n",
              "    .colab-df-convert:hover {\n",
              "      background-color: #E2EBFA;\n",
              "      box-shadow: 0px 1px 2px rgba(60, 64, 67, 0.3), 0px 1px 3px 1px rgba(60, 64, 67, 0.15);\n",
              "      fill: #174EA6;\n",
              "    }\n",
              "\n",
              "    [theme=dark] .colab-df-convert {\n",
              "      background-color: #3B4455;\n",
              "      fill: #D2E3FC;\n",
              "    }\n",
              "\n",
              "    [theme=dark] .colab-df-convert:hover {\n",
              "      background-color: #434B5C;\n",
              "      box-shadow: 0px 1px 3px 1px rgba(0, 0, 0, 0.15);\n",
              "      filter: drop-shadow(0px 1px 2px rgba(0, 0, 0, 0.3));\n",
              "      fill: #FFFFFF;\n",
              "    }\n",
              "  </style>\n",
              "\n",
              "      <script>\n",
              "        const buttonEl =\n",
              "          document.querySelector('#df-76e1be27-9364-455b-a5a9-e8f0badc73b0 button.colab-df-convert');\n",
              "        buttonEl.style.display =\n",
              "          google.colab.kernel.accessAllowed ? 'block' : 'none';\n",
              "\n",
              "        async function convertToInteractive(key) {\n",
              "          const element = document.querySelector('#df-76e1be27-9364-455b-a5a9-e8f0badc73b0');\n",
              "          const dataTable =\n",
              "            await google.colab.kernel.invokeFunction('convertToInteractive',\n",
              "                                                     [key], {});\n",
              "          if (!dataTable) return;\n",
              "\n",
              "          const docLinkHtml = 'Like what you see? Visit the ' +\n",
              "            '<a target=\"_blank\" href=https://colab.research.google.com/notebooks/data_table.ipynb>data table notebook</a>'\n",
              "            + ' to learn more about interactive tables.';\n",
              "          element.innerHTML = '';\n",
              "          dataTable['output_type'] = 'display_data';\n",
              "          await google.colab.output.renderOutput(dataTable, element);\n",
              "          const docLink = document.createElement('div');\n",
              "          docLink.innerHTML = docLinkHtml;\n",
              "          element.appendChild(docLink);\n",
              "        }\n",
              "      </script>\n",
              "    </div>\n",
              "  </div>\n",
              "  "
            ]
          },
          "metadata": {},
          "execution_count": 49
        }
      ]
    },
    {
      "cell_type": "markdown",
      "source": [
        "So performance here tends to be mixed with a few translations which are off, a few which match the reference exactly, and a few interesting ones where the translation doesn't match the reference but conveys the same idea. But overall, pretty good.\n",
        "<br><br>\n",
        "There are several limitations we're working with:\n",
        "- Hungarian is a difficult language because of its flexible structure and high expressiveness. The conjugation style leads to several English words often mapping to one word in Hungarian. Even Google Translate tends to have a high error rate with Hungarian.\n",
        "- This is a small dataset and to build something robust requires much more data. It also isn't very wide and diverse.\n",
        "- We're using a simple model with one LSTM for the encoder, and one LSTM for the decoder. In contrast, when Google Translate was still fully recurrence-based, it used an eight-layer LSTM for the encoder, and an eight-layer LSTM for the decoder (though in this case, I still think the data is the primary limitation).\n",
        "- Translation remains a tricky and hard problem. For examples of issues that arise in translation, check out this video from Rasa: https://www.youtube.com/watch?v=94K4LU_Pe8Y.\n",
        "<br><br>\n",
        "Still, we managed to get some decent and interesting results with a simple approach. Next, let's learn how to add an attention layer."
      ],
      "metadata": {
        "id": "i7AB6CuyLalP"
      }
    },
    {
      "cell_type": "markdown",
      "source": [
        "# Recurrence-based Seq2Seq Neural Machine Translation **WITH** Luong Attention\n",
        "\n",
        "\n",
        "This time around, we'll decouple the encoder and decoder from the beginning (i.e. won't have to build separate models for training and inference). And rather than using the **Functional API**, we'll use **subclassing** instead.\n",
        "\n",
        "Luong Attention = multiplicative (dot product) attention"
      ],
      "metadata": {
        "id": "Dhss329pL9gT"
      }
    },
    {
      "cell_type": "markdown",
      "source": [
        "In the constructor, we declare our layers. The encoder flow remains much the same. The big difference with this encoder:\n",
        "- Encoder's LSTM layer is that it has *return_sequences* set to *True*. This means the encoder will now output a hidden state at each time step which will be used by the attention mechanism. \n",
        "- There is no masking because masks don't flow through custom layers (such as the attention mechanism), so we'll handle the masking ourselves in a custom loss function."
      ],
      "metadata": {
        "id": "F2y2AOBQMiP_"
      }
    },
    {
      "cell_type": "markdown",
      "source": [
        "## Encoder"
      ],
      "metadata": {
        "id": "L9vmcfPRPPU6"
      }
    },
    {
      "cell_type": "code",
      "source": [
        "class Encoder(tf.keras.Model):\n",
        "  def __init__(self, vocab_size, embedding_dim, rnn_dim):\n",
        "    super().__init__()\n",
        "\n",
        "    # No masking here. We'll handle it ourselves.\n",
        "    self.embedding = layers.Embedding(vocab_size, embedding_dim, \n",
        "                                      name='encoder_embedding_layer')\n",
        "    \n",
        "    # return_sequences is set to True this time.\n",
        "    self.lstm = layers.LSTM(rnn_dim,\n",
        "                            return_sequences=True, \n",
        "                            return_state=True,\n",
        "                            name='encoder_lstm')\n",
        "  \n",
        "  def call(self, input):\n",
        "    embeddings = self.embedding(input)\n",
        "\n",
        "    # output_seq will hold the encoder's hidden states from each time step.\n",
        "    output_seq, state_h, state_c = self.lstm(embeddings)\n",
        "    return output_seq, state_h, state_c"
      ],
      "metadata": {
        "id": "X8qB1MS2MWJB"
      },
      "execution_count": 50,
      "outputs": []
    },
    {
      "cell_type": "code",
      "source": [
        "# sanity check\n",
        "test_encoder = Encoder(source_vocab_size, CFG.embedding_dim, CFG.rnn_dim)\n",
        "\n",
        "# receive a batch of sequences.\n",
        "test_encoder_batch = padded_train_encoder_inputs[:3]\n",
        "print(test_encoder_batch.shape)\n",
        "test_encoder_batch"
      ],
      "metadata": {
        "colab": {
          "base_uri": "https://localhost:8080/"
        },
        "id": "W7a4d334OLxW",
        "outputId": "bf3fd1f8-1506-458d-86fa-83376b5d3fab"
      },
      "execution_count": 51,
      "outputs": [
        {
          "output_type": "stream",
          "name": "stdout",
          "text": [
            "(3, 37)\n"
          ]
        },
        {
          "output_type": "execute_result",
          "data": {
            "text/plain": [
              "array([[1395,   91,    4,   27, 1080,   10,    0,    0,    0,    0,    0,\n",
              "           0,    0,    0,    0,    0,    0,    0,    0,    0,    0,    0,\n",
              "           0,    0,    0,    0,    0,    0,    0,    0,    0,    0,    0,\n",
              "           0,    0,    0,    0],\n",
              "       [ 153,   56,  145,   17,  152,    3, 7232,    4,   45, 1670,   44,\n",
              "          23,    2,    0,    0,    0,    0,    0,    0,    0,    0,    0,\n",
              "           0,    0,    0,    0,    0,    0,    0,    0,    0,    0,    0,\n",
              "           0,    0,    0,    0],\n",
              "       [1026,    3, 8933,   10,    0,    0,    0,    0,    0,    0,    0,\n",
              "           0,    0,    0,    0,    0,    0,    0,    0,    0,    0,    0,\n",
              "           0,    0,    0,    0,    0,    0,    0,    0,    0,    0,    0,\n",
              "           0,    0,    0,    0]], dtype=int32)"
            ]
          },
          "metadata": {},
          "execution_count": 51
        }
      ]
    },
    {
      "cell_type": "code",
      "source": [
        "test_encoder_outputs, state_h, state_c = test_encoder(test_encoder_batch)\n",
        "\n",
        "print(test_encoder_outputs.shape)\n",
        "print(state_h.shape)\n",
        "print(state_c.shape)"
      ],
      "metadata": {
        "colab": {
          "base_uri": "https://localhost:8080/"
        },
        "id": "IDZprJ9MOUnN",
        "outputId": "339567df-2693-4445-aab5-9cacd648b634"
      },
      "execution_count": 52,
      "outputs": [
        {
          "output_type": "stream",
          "name": "stdout",
          "text": [
            "(3, 37, 256)\n",
            "(3, 256)\n",
            "(3, 256)\n"
          ]
        }
      ]
    },
    {
      "cell_type": "markdown",
      "source": [
        "## Luong Attention \n",
        "\n",
        "Here we are using Global Attention Model\n",
        "\n"
      ],
      "metadata": {
        "id": "HocAFHwpPTHT"
      }
    },
    {
      "cell_type": "code",
      "source": [
        "# Sample encoder LSTM output for single sequence of length 4.\n",
        "encoder_out = tf.constant([[1., 2., 3.],\n",
        "                           [2., 3., 4.],\n",
        "                           [3., 4., 5.],\n",
        "                           [4., 5. ,6.]])\n",
        "\n",
        "print('encoder_out shape: {}'.format(encoder_out.shape))\n",
        "print('Number of timesteps: {}'.format(encoder_out.shape[0]))\n",
        "print('Number of hidden dimensions: {}'.format(encoder_out.shape[1]))"
      ],
      "metadata": {
        "colab": {
          "base_uri": "https://localhost:8080/"
        },
        "id": "1WYspthdNMLG",
        "outputId": "324245c3-fc0b-4dfe-9c58-6b7a9ae13d12"
      },
      "execution_count": 53,
      "outputs": [
        {
          "output_type": "stream",
          "name": "stdout",
          "text": [
            "encoder_out shape: (4, 3)\n",
            "Number of timesteps: 4\n",
            "Number of hidden dimensions: 3\n"
          ]
        }
      ]
    },
    {
      "cell_type": "code",
      "source": [
        "# Sample decoder LSTM output for a single timestep.\n",
        "decoder_out = tf.constant([[1., 3., 5.]])\n",
        "\n",
        "print('decoder_out shape: {}'.format(decoder_out.shape))\n",
        "print('Number of timesteps: {}'.format(decoder_out.shape[0]))\n",
        "print('Number of hidden dimensions: {}'.format(decoder_out.shape[1]))"
      ],
      "metadata": {
        "colab": {
          "base_uri": "https://localhost:8080/"
        },
        "id": "7vaBhN0eOLut",
        "outputId": "c89547a6-c6ef-4f90-b6dd-98978d1b61ea"
      },
      "execution_count": 54,
      "outputs": [
        {
          "output_type": "stream",
          "name": "stdout",
          "text": [
            "decoder_out shape: (1, 3)\n",
            "Number of timesteps: 1\n",
            "Number of hidden dimensions: 3\n"
          ]
        }
      ]
    },
    {
      "cell_type": "code",
      "source": [
        "attention_scores = tf.matmul(decoder_out, encoder_out, transpose_b=True)\n",
        "print(attention_scores)"
      ],
      "metadata": {
        "colab": {
          "base_uri": "https://localhost:8080/"
        },
        "id": "M884v6XzO6Mq",
        "outputId": "3349fda5-fbbc-4711-c1e8-f33451938d61"
      },
      "execution_count": 55,
      "outputs": [
        {
          "output_type": "stream",
          "name": "stdout",
          "text": [
            "tf.Tensor([[22. 31. 40. 49.]], shape=(1, 4), dtype=float32)\n"
          ]
        }
      ]
    },
    {
      "cell_type": "code",
      "source": [
        "attention_weights = tf.keras.activations.softmax(attention_scores, axis=-1)\n",
        "print(attention_weights)"
      ],
      "metadata": {
        "colab": {
          "base_uri": "https://localhost:8080/"
        },
        "id": "KhZBJHQKPDK_",
        "outputId": "c404c88a-4453-4431-e459-e044dea0f075"
      },
      "execution_count": 56,
      "outputs": [
        {
          "output_type": "stream",
          "name": "stdout",
          "text": [
            "tf.Tensor([[1.8792968e-12 1.5228101e-08 1.2339458e-04 9.9987662e-01]], shape=(1, 4), dtype=float32)\n"
          ]
        }
      ]
    },
    {
      "cell_type": "code",
      "source": [
        "context = tf.matmul(attention_weights, encoder_out)\n",
        "print(context)"
      ],
      "metadata": {
        "colab": {
          "base_uri": "https://localhost:8080/"
        },
        "id": "nLzfSeWXPIpt",
        "outputId": "41040cf5-a2e0-430f-edfd-f5c12afcfb5c"
      },
      "execution_count": 57,
      "outputs": [
        {
          "output_type": "stream",
          "name": "stdout",
          "text": [
            "tf.Tensor([[3.9998767 4.9998765 5.999877 ]], shape=(1, 3), dtype=float32)\n"
          ]
        }
      ]
    },
    {
      "cell_type": "markdown",
      "source": [
        "The attention class below follows the same steps. The only difference is the encoder outputs go through a dense layer first.\n",
        "<br><br>\n",
        "For input, the attention class takes in all the encoder hidden states and the current decoder hidden state. For output, it returns the attention weights (which could be useful for other purposes) and the context vector."
      ],
      "metadata": {
        "id": "GYR__L3oQaNB"
      }
    },
    {
      "cell_type": "code",
      "source": [
        "class LuongAttention(tf.keras.Model):\n",
        "  def __init__(self, hidden_dim):\n",
        "    super().__init__()\n",
        "    self.w = layers.Dense(hidden_dim, name='encoder_outputs_dense')\n",
        "\n",
        "  def call(self, inputs):\n",
        "    encoder_output_seq, decoder_output = inputs\n",
        "    z = self.w(encoder_output_seq)\n",
        "\n",
        "    attention_scores = tf.matmul(decoder_output, z, transpose_b=True)\n",
        "    attention_weights = tf.keras.activations.softmax(attention_scores, axis=-1)\n",
        "    context = tf.matmul(attention_weights, encoder_output_seq)\n",
        "\n",
        "    return attention_weights, context"
      ],
      "metadata": {
        "id": "SiB_xYb_QRi0"
      },
      "execution_count": 58,
      "outputs": []
    },
    {
      "cell_type": "markdown",
      "source": [
        "## Decoder\n",
        "\n",
        "The decoder remains mostly the same except:\n",
        "1. The embedding layer doesn't have masking.\n",
        "2. There's an additional attention step in the flow.\n",
        "3. The combined context and decoder output vector goes through a dense layer *w*. \n",
        "4. The final dense layer has no softmax activation. Rather, we'll calculate the loss directly on the logits.\n",
        "<br>\n",
        "\n",
        "For inputs, the decoder receives:\n",
        "1. the token(s) for the current step.\n",
        "  - During training with teacher forcing, that would be the next expected token(s). \n",
        "  - During inference, that would be the token(s) generated from the last time step.\n",
        "2. all the encoder's hidden states.\n",
        "3. whatever the decoder should take as its current hidden and cell states.\n",
        "<br>\n",
        "\n",
        "For outputs, the decoder returns the:\n",
        "1. logits.\n",
        "2. last LSTM hidden and cell states.\n",
        "3. attention weights."
      ],
      "metadata": {
        "id": "z-p4IbT8QF5v"
      }
    },
    {
      "cell_type": "code",
      "source": [
        "class Decoder(tf.keras.Model):\n",
        "  def __init__(self, vocab_size, embedding_dim, rnn_dim, hidden_dim):\n",
        "    super().__init__()\n",
        "\n",
        "    self.embedding = layers.Embedding(vocab_size,\n",
        "                                      embedding_dim,\n",
        "                                      name='decoder_embedding_layer')\n",
        "    self.lstm = layers.LSTM(rnn_dim, \n",
        "                            return_sequences=True,\n",
        "                            return_state=True,\n",
        "                            name='decoder_lstm')\n",
        "    \n",
        "    self.attention = LuongAttention(hidden_dim)\n",
        "\n",
        "    self.w = layers.Dense(hidden_dim, activation='tanh', name='attended_outputs_dense')\n",
        "\n",
        "    self.dense = layers.Dense(vocab_size, name='decoder_dense') # output\n",
        "    \n",
        "  def call(self, inputs):\n",
        "    decoder_input, encoder_output_seq, lstm_state = inputs\n",
        "    embeddings = self.embedding(decoder_input)\n",
        "\n",
        "    decoder_output, state_h, state_c = self.lstm(embeddings, initial_state=lstm_state)\n",
        "\n",
        "    weights, context = self.attention([encoder_output_seq, decoder_output])\n",
        "\n",
        "    decoder_output_with_attention = self.w(\n",
        "        tf.concat([tf.squeeze(context, 1), tf.squeeze(decoder_output, 1)], -1)\n",
        "    )\n",
        "\n",
        "    logits = self.dense(decoder_output_with_attention)\n",
        "\n",
        "    return logits, state_h, state_c, weights"
      ],
      "metadata": {
        "id": "ROYGBW4kQKEh"
      },
      "execution_count": 59,
      "outputs": []
    },
    {
      "cell_type": "code",
      "source": [
        "# sanity check\n",
        "test_decoder = Decoder(target_vocab_size, CFG.embedding_dim, CFG.rnn_dim, CFG.hidden_dim)\n",
        "\n",
        "# receive a batch of sequences.\n",
        "test_decoder_batch = padded_train_decoder_inputs[:3]\n",
        "print(test_decoder_batch.shape)\n",
        "test_decoder_batch"
      ],
      "metadata": {
        "colab": {
          "base_uri": "https://localhost:8080/"
        },
        "id": "79o40ZIyQKBR",
        "outputId": "929dfd08-73a8-434a-b996-6cd578ee1c64"
      },
      "execution_count": 60,
      "outputs": [
        {
          "output_type": "stream",
          "name": "stdout",
          "text": [
            "(3, 34)\n"
          ]
        },
        {
          "output_type": "execute_result",
          "data": {
            "text/plain": [
              "array([[  2,   5,  23, 306,  28,   7, 151,   4,   0,   0,   0,   0,   0,\n",
              "          0,   0,   0,   0,   0,   0,   0,   0,   0,   0,   0,   0,   0,\n",
              "          0,   0,   0,   0,   0,   0,   0,   0],\n",
              "       [  2,  25,  55, 117, 144,  33,   7,  35, 139, 794,   4,   0,   0,\n",
              "          0,   0,   0,   0,   0,   0,   0,   0,   0,   0,   0,   0,   0,\n",
              "          0,   0,   0,   0,   0,   0,   0,   0],\n",
              "       [  2, 105, 306,  17,  24, 225,   4,   0,   0,   0,   0,   0,   0,\n",
              "          0,   0,   0,   0,   0,   0,   0,   0,   0,   0,   0,   0,   0,\n",
              "          0,   0,   0,   0,   0,   0,   0,   0]], dtype=int32)"
            ]
          },
          "metadata": {},
          "execution_count": 60
        }
      ]
    },
    {
      "cell_type": "code",
      "source": [
        "# ...and let's say we're currently on the second timestep (index 1)\n",
        "test_decoder_batch[:, 1]"
      ],
      "metadata": {
        "colab": {
          "base_uri": "https://localhost:8080/"
        },
        "id": "2txbJLo-VIsr",
        "outputId": "df8e1755-2af5-4f18-f0cb-5689a4a1ad49"
      },
      "execution_count": 61,
      "outputs": [
        {
          "output_type": "execute_result",
          "data": {
            "text/plain": [
              "array([  5,  25, 105], dtype=int32)"
            ]
          },
          "metadata": {},
          "execution_count": 61
        }
      ]
    },
    {
      "cell_type": "code",
      "source": [
        "# modify this to be three sequences\n",
        "next_decoder_inputs = tf.expand_dims(test_decoder_batch[:, 1], 1)\n",
        "next_decoder_inputs"
      ],
      "metadata": {
        "colab": {
          "base_uri": "https://localhost:8080/"
        },
        "id": "tFw0rxrdVgRx",
        "outputId": "6b9cc273-6326-457b-f7f9-d2445fd38caa"
      },
      "execution_count": 62,
      "outputs": [
        {
          "output_type": "execute_result",
          "data": {
            "text/plain": [
              "<tf.Tensor: shape=(3, 1), dtype=int32, numpy=\n",
              "array([[  5],\n",
              "       [ 25],\n",
              "       [105]], dtype=int32)>"
            ]
          },
          "metadata": {},
          "execution_count": 62
        }
      ]
    },
    {
      "cell_type": "code",
      "source": [
        "# Initial values for state_h and state_c are from the encoder.\n",
        "test_decoder_logits, state_h, state_c, test_decoder_weights = test_decoder(\n",
        "    [\n",
        "      next_decoder_inputs,\n",
        "      test_encoder_outputs,\n",
        "      [state_h, state_c]\n",
        "    ])\n",
        "\n",
        "print(test_decoder_logits.shape)\n",
        "print(test_decoder_weights.shape)"
      ],
      "metadata": {
        "colab": {
          "base_uri": "https://localhost:8080/"
        },
        "id": "akEjHzQoVilb",
        "outputId": "ccb8159e-6459-4bb0-f720-7cf176646e29"
      },
      "execution_count": 63,
      "outputs": [
        {
          "output_type": "stream",
          "name": "stdout",
          "text": [
            "(3, 10556)\n",
            "(3, 1, 37)\n"
          ]
        }
      ]
    },
    {
      "cell_type": "markdown",
      "source": [
        "We're going to use a custom loss function because our sequences contain padding, and we don't want predictions on padding to contribute to the loss.\n",
        "<br><br>\n",
        "This custom loss function is simply a wrapper around a **sparse categorical crossentropy** loss, but with a mask of 1s and 0s. Any target element of 0 (i.e. a padding value) will get a mask value of 0, everything else will get a mask of 1, and only target values corresponding to a mask value of 1 will be used for loss calculation."
      ],
      "metadata": {
        "id": "A75LkCdAYeFK"
      }
    },
    {
      "cell_type": "code",
      "source": [
        "def loss_func(targets, logits):\n",
        "  ce_loss = tf.keras.losses.SparseCategoricalCrossentropy(from_logits=True)\n",
        "\n",
        "  mask = tf.cast(tf.math.not_equal(targets, 0), tf.float32)\n",
        "  \n",
        "  return ce_loss(targets, logits, sample_weight=mask)"
      ],
      "metadata": {
        "id": "clcLUPIqVm2M"
      },
      "execution_count": 64,
      "outputs": []
    },
    {
      "cell_type": "code",
      "source": [
        "# We'll use Tensorflow's Dataset to batch our data\n",
        "dataset = tf.data.Dataset.from_tensor_slices((padded_train_encoder_inputs, \n",
        "                                              padded_train_decoder_inputs, \n",
        "                                              padded_train_decoder_targets)).batch(CFG.batch_size,\n",
        "                                                                                   drop_remainder=True).prefetch(10_000)"
      ],
      "metadata": {
        "id": "QG_x0J2JY8qN"
      },
      "execution_count": 65,
      "outputs": []
    },
    {
      "cell_type": "markdown",
      "source": [
        "Finally, this is our training function. It'll be called for each batch of data.\n",
        "<br><br>\n",
        "*train_step* doesn't have to be in a class, but by putting it inside a *Model* subclass, we can leverage the *fit* method rather than writing our own training loop.\n",
        "<br><br>\n",
        "*train_step* is an overridden method called by the *fit* method.<br>\n",
        "https://www.tensorflow.org/guide/keras/customizing_what_happens_in_fit\n",
        "<br><br>\n",
        "Any operation within the _GradientTape_ context is recorded, and the variables involved are watched. We can then have Tensorflow's autodiff calculate the gradients of the variables with respect to the loss, and backpropagate it through the operations involved.\n",
        "https://www.tensorflow.org/api_docs/python/tf/GradientTape<br>\n",
        "https://www.tensorflow.org/guide/autodiff\n",
        "<br><br>\n",
        "*train_step* is wrapped in a *@tf.function* annotation for a bit of a performance boost.<br>\n",
        "https://www.tensorflow.org/api_docs/python/tf/function<br>\n",
        "https://www.tensorflow.org/guide/function<br>\n"
      ],
      "metadata": {
        "id": "mqD6VMTWZw-1"
      }
    },
    {
      "cell_type": "code",
      "source": [
        "class TranslatorTrainer(tf.keras.Model):\n",
        "  def __init__(self, encoder, decoder):\n",
        "    super().__init__()\n",
        "\n",
        "    self.encoder = encoder\n",
        "    self.decoder = decoder\n",
        "\n",
        "  @tf.function\n",
        "  def train_step(self, inputs):\n",
        "    loss = 0.0\n",
        "\n",
        "    encoder_input_seq, decoder_input_seq, decoder_target_seq = inputs\n",
        "\n",
        "    with tf.GradientTape() as tape:\n",
        "      encoder_output_seq, state_h, state_c = self.encoder(encoder_input_seq)\n",
        "\n",
        "      # We need to create a loop to iterate through the target sequences\n",
        "      for i in range(decoder_target_seq.shape[1]):\n",
        "\n",
        "        # Input to the decoder must have shape of (batch_size, length)\n",
        "        # so we need to expand one dimension (just like in the previous example).\n",
        "        next_decoder_input = tf.expand_dims(decoder_input_seq[:, i], 1)\n",
        "        logits, state_h, state_c, _ = self.decoder([\n",
        "            next_decoder_input, encoder_output_seq, (state_h, state_c)\n",
        "        ])\n",
        "\n",
        "        # The loss is now accumulated through the whole batch\n",
        "        loss += self.loss(decoder_target_seq[:, i], logits)\n",
        "      \n",
        "    # Update the parameters and the optimizer\n",
        "    variables = encoder.trainable_variables + decoder.trainable_variables\n",
        "    gradients = tape.gradient(loss, variables)\n",
        "    self.optimizer.apply_gradients(zip(gradients, variables))\n",
        "\n",
        "    return {'loss': loss / decoder_target_seq.shape[1]}"
      ],
      "metadata": {
        "id": "BDdhfyqHZWHM"
      },
      "execution_count": 66,
      "outputs": []
    },
    {
      "cell_type": "code",
      "source": [
        "encoder = Encoder(source_vocab_size, CFG.embedding_dim, CFG.rnn_dim)\n",
        "decoder = Decoder(target_vocab_size, CFG.embedding_dim, CFG.rnn_dim, CFG.hidden_dim)\n",
        "optimizer = tf.keras.optimizers.Adam()\n",
        "\n",
        "translator_trainer = TranslatorTrainer(encoder, decoder)\n",
        "translator_trainer.compile(optimizer=optimizer, loss=loss_func)"
      ],
      "metadata": {
        "id": "-sp3zxgLdHTT"
      },
      "execution_count": 67,
      "outputs": []
    },
    {
      "cell_type": "code",
      "source": [
        "epochs = 13 # same as the above model\n",
        "translator_trainer.fit(dataset, epochs=epochs)"
      ],
      "metadata": {
        "colab": {
          "base_uri": "https://localhost:8080/"
        },
        "id": "LD1zhyw1dQjd",
        "outputId": "0a8f4182-9d5c-479e-d668-255e7e415a29"
      },
      "execution_count": 68,
      "outputs": [
        {
          "output_type": "stream",
          "name": "stdout",
          "text": [
            "Epoch 1/13\n",
            "2770/2770 [==============================] - 247s 72ms/step - loss: 0.8569\n",
            "Epoch 2/13\n",
            "2770/2770 [==============================] - 197s 71ms/step - loss: 0.5826\n",
            "Epoch 3/13\n",
            "2770/2770 [==============================] - 209s 75ms/step - loss: 0.4302\n",
            "Epoch 4/13\n",
            "2770/2770 [==============================] - 208s 75ms/step - loss: 0.3225\n",
            "Epoch 5/13\n",
            "2770/2770 [==============================] - 206s 74ms/step - loss: 0.2464\n",
            "Epoch 6/13\n",
            "2770/2770 [==============================] - 197s 71ms/step - loss: 0.1920\n",
            "Epoch 7/13\n",
            "2770/2770 [==============================] - 184s 67ms/step - loss: 0.1528\n",
            "Epoch 8/13\n",
            "2770/2770 [==============================] - 188s 68ms/step - loss: 0.1237\n",
            "Epoch 9/13\n",
            "2770/2770 [==============================] - 187s 68ms/step - loss: 0.1024\n",
            "Epoch 10/13\n",
            "2770/2770 [==============================] - 183s 66ms/step - loss: 0.0866\n",
            "Epoch 11/13\n",
            "2770/2770 [==============================] - 187s 68ms/step - loss: 0.0739\n",
            "Epoch 12/13\n",
            "2770/2770 [==============================] - 194s 70ms/step - loss: 0.0641\n",
            "Epoch 13/13\n",
            "2770/2770 [==============================] - 186s 67ms/step - loss: 0.0565\n"
          ]
        },
        {
          "output_type": "execute_result",
          "data": {
            "text/plain": [
              "<keras.callbacks.History at 0x7f6872bb7340>"
            ]
          },
          "metadata": {},
          "execution_count": 68
        }
      ]
    },
    {
      "cell_type": "code",
      "source": [
        "# encoder.save_weights('attention_encoder_weights_with_dropout_ckpt')\n",
        "# decoder.save_weights('attention_decoder_weights_with_dropout_ckpt')\n",
        "\n",
        "# !zip -r ./attention_weights.zip ./attention_weights\n",
        "\n",
        "# files.download('./attention_weights.zip')"
      ],
      "metadata": {
        "id": "htrlWjWyd55N"
      },
      "execution_count": null,
      "outputs": []
    },
    {
      "cell_type": "code",
      "source": [
        "# encoder.load_weights('attention_weights/attention_encoder_weights_ckpt')\n",
        "# decoder.load_weights('attention_weights/attention_decoder_weights_ckpt')"
      ],
      "metadata": {
        "id": "JSldVRdnfOGx"
      },
      "execution_count": null,
      "outputs": []
    },
    {
      "cell_type": "markdown",
      "source": [
        "## Inference"
      ],
      "metadata": {
        "id": "e-QH382joxuW"
      }
    },
    {
      "cell_type": "markdown",
      "source": [
        "The *translate_with_attention* method is similar to the method without attention, except it involves padding since the LSTMs didn't use masking, and also using the encoder's hidden states."
      ],
      "metadata": {
        "id": "9MGcHyVDiWYL"
      }
    },
    {
      "cell_type": "code",
      "source": [
        "def translate_with_attention(sentence: str, \n",
        "                            source_tokenizer, encoder,\n",
        "                            target_tokenizer, decoder,\n",
        "                            length = 30):\n",
        "  input_seq = source_tokenizer.texts_to_sequences([sentence])\n",
        "  tokenized = source_tokenizer.sequences_to_texts(input_seq)\n",
        "\n",
        "  input_seq = pad_sequences(input_seq, maxlen=max_encoding_len, \n",
        "                            padding='post', truncating='post')\n",
        "  encoder_output, state_h, state_c = encoder.predict(input_seq, verbose=0)\n",
        "\n",
        "  current_word = '<sos>'\n",
        "  decoded_sentence = []\n",
        "\n",
        "  while len(decoded_sentence) < length:\n",
        "    target_seq = np.zeros((1,1))\n",
        "    target_seq[0, 0] = target_tokenizer.word_index[current_word]\n",
        "\n",
        "    logits, state_h, state_c, _ = decoder.predict([\n",
        "        target_seq, encoder_output, (state_h, state_c)\n",
        "    ], verbose=0)\n",
        "    current_token_index = np.argmax(logits[0])\n",
        "\n",
        "    current_word = target_tokenizer.index_word[current_token_index]\n",
        "\n",
        "    if (current_word == '<eos>'):\n",
        "      break\n",
        "    \n",
        "    decoded_sentence.append(current_word)\n",
        "\n",
        "  return tokenized[0], ' '.join(decoded_sentence)"
      ],
      "metadata": {
        "id": "dIS2zbvJiXKo"
      },
      "execution_count": 69,
      "outputs": []
    },
    {
      "cell_type": "markdown",
      "source": [
        "We'll translate the same randomly sampled sentences from before and compare the results against the translations without attention."
      ],
      "metadata": {
        "id": "JO9ZSMIYnIx0"
      }
    },
    {
      "cell_type": "code",
      "source": [
        "shorter_translations_w_attention = pd.DataFrame(translate_sentences(sentences, translate_with_attention,\n",
        "                                                                    source_tokenizer, encoder,\n",
        "                                                                    target_tokenizer, decoder))\n",
        "shorter_translations_w_attention['Attention BLEU Score'] = shorter_translations_w_attention.apply(calculate_bleu, axis=1)\n",
        "shorter_translations_w_attention.rename(columns={'Translation': 'Translation W/ Attention'}, inplace=True)"
      ],
      "metadata": {
        "id": "cOY5PLQXnDXP"
      },
      "execution_count": 70,
      "outputs": []
    },
    {
      "cell_type": "code",
      "source": [
        "# add without attention translations\n",
        "shorter_translations_w_attention['Translation W/O Attention'] = translations_no_attention['Translation']\n",
        "shorter_translations_w_attention['No Attention BLEU Score'] = translations_no_attention['BLEU Score']\n",
        "\n",
        "print(shorter_translations_w_attention['Attention BLEU Score'].mean())\n",
        "shorter_translations_w_attention"
      ],
      "metadata": {
        "colab": {
          "base_uri": "https://localhost:8080/",
          "height": 807
        },
        "id": "OjTVPqgdnLgC",
        "outputId": "daa4ba6e-da98-40df-b0d6-4e7d2463f11c"
      },
      "execution_count": 71,
      "outputs": [
        {
          "output_type": "stream",
          "name": "stdout",
          "text": [
            "1.7193541145438552e-155\n"
          ]
        },
        {
          "output_type": "execute_result",
          "data": {
            "text/plain": [
              "                       Tokenized Original  \\\n",
              "0    tomi gyakran tesz <unk> a kavejaba .   \n",
              "1                    tomit tonkretettek .   \n",
              "2                  hagytam tomit nyerni .   \n",
              "3              ok valahol mashol voltak .   \n",
              "4           nem engedhetik meg maguknak .   \n",
              "5                         hozd be , tom !   \n",
              "6   onnek van valamije , ami nekem kell .   \n",
              "7                    tomi egy politikus .   \n",
              "8                         hianyzik anyu !   \n",
              "9                      faradtak a <unk> .   \n",
              "10                      ulj fel a <unk> !   \n",
              "11   azt gondolom , hogy tomi fel toled .   \n",
              "12                         muveszi vagy .   \n",
              "13   a ket ferfi egymast okolta a <unk> .   \n",
              "14                    nem tudnak semmit .   \n",
              "\n",
              "                                       Reference  \\\n",
              "0         Tom often puts cinnamon in his coffee.   \n",
              "1                                 Tom is ruined.   \n",
              "2                                 I let Tom win.   \n",
              "3                      They were somewhere else.   \n",
              "4                          They can't afford it.   \n",
              "5                              Bring it in, Tom.   \n",
              "6                     You have something I need.   \n",
              "7                           Tom is a politician.   \n",
              "8                                 I miss my mom.   \n",
              "9                             My eyes are tired.   \n",
              "10                             Get on your bike.   \n",
              "11                 I think Tom is afraid of you.   \n",
              "12                              You're artistic.   \n",
              "13  The two men blamed each other for the crime.   \n",
              "14                            They know nothing.   \n",
              "\n",
              "                     Translation W/ Attention  Attention BLEU Score  \\\n",
              "0             tom often asks for his coffee .         1.331960e-231   \n",
              "1                            tom is shocked .         1.288230e-231   \n",
              "2                             i let tom win .         1.218332e-231   \n",
              "3            they're ignored somewhere else .         1.218332e-231   \n",
              "4                      he can't afford this .         8.388266e-155   \n",
              "5                       do , tom , it's tom .          0.000000e+00   \n",
              "6                         i have more money .         1.218332e-231   \n",
              "7                           tom is a lawyer .         8.388266e-155   \n",
              "8                            miss your wife .         1.288230e-231   \n",
              "9                    he's tired of the long .          0.000000e+00   \n",
              "10                                 sit down !          0.000000e+00   \n",
              "11              i think tom is following me .         1.331960e-231   \n",
              "12                           you're welcome .          0.000000e+00   \n",
              "13  two men gave up the same for each other .         9.013779e-155   \n",
              "14                 they don't know anything .         1.218332e-231   \n",
              "\n",
              "                            Translation W/O Attention  No Attention BLEU Score  \n",
              "0        tom often puts his coffee without his mind .            6.739372e-155  \n",
              "1                                  tom is exhausted .            1.288230e-231  \n",
              "2                                     i let tom win .            1.218332e-231  \n",
              "3                          they were somewhere else .            8.388266e-155  \n",
              "4                                it's not clear yet .             0.000000e+00  \n",
              "5                                      get it , tom .            1.218332e-231  \n",
              "6                       i have to have my important .            1.120041e-231  \n",
              "7                                    tom is a thief .            8.388266e-155  \n",
              "8                                        i envy him .             0.000000e+00  \n",
              "9                                    they all tired .             0.000000e+00  \n",
              "10                               sit in the kitchen .             0.000000e+00  \n",
              "11                      i think tom is afraid of me .             4.797597e-78  \n",
              "12                                        you're on .             0.000000e+00  \n",
              "13  the two ladies are filled with the enemy or ea...            6.223630e-155  \n",
              "14                         they can't find anything .             0.000000e+00  "
            ],
            "text/html": [
              "\n",
              "  <div id=\"df-bb3f5e7d-69b4-4c7d-92cd-070a2df1a707\">\n",
              "    <div class=\"colab-df-container\">\n",
              "      <div>\n",
              "<style scoped>\n",
              "    .dataframe tbody tr th:only-of-type {\n",
              "        vertical-align: middle;\n",
              "    }\n",
              "\n",
              "    .dataframe tbody tr th {\n",
              "        vertical-align: top;\n",
              "    }\n",
              "\n",
              "    .dataframe thead th {\n",
              "        text-align: right;\n",
              "    }\n",
              "</style>\n",
              "<table border=\"1\" class=\"dataframe\">\n",
              "  <thead>\n",
              "    <tr style=\"text-align: right;\">\n",
              "      <th></th>\n",
              "      <th>Tokenized Original</th>\n",
              "      <th>Reference</th>\n",
              "      <th>Translation W/ Attention</th>\n",
              "      <th>Attention BLEU Score</th>\n",
              "      <th>Translation W/O Attention</th>\n",
              "      <th>No Attention BLEU Score</th>\n",
              "    </tr>\n",
              "  </thead>\n",
              "  <tbody>\n",
              "    <tr>\n",
              "      <th>0</th>\n",
              "      <td>tomi gyakran tesz &lt;unk&gt; a kavejaba .</td>\n",
              "      <td>Tom often puts cinnamon in his coffee.</td>\n",
              "      <td>tom often asks for his coffee .</td>\n",
              "      <td>1.331960e-231</td>\n",
              "      <td>tom often puts his coffee without his mind .</td>\n",
              "      <td>6.739372e-155</td>\n",
              "    </tr>\n",
              "    <tr>\n",
              "      <th>1</th>\n",
              "      <td>tomit tonkretettek .</td>\n",
              "      <td>Tom is ruined.</td>\n",
              "      <td>tom is shocked .</td>\n",
              "      <td>1.288230e-231</td>\n",
              "      <td>tom is exhausted .</td>\n",
              "      <td>1.288230e-231</td>\n",
              "    </tr>\n",
              "    <tr>\n",
              "      <th>2</th>\n",
              "      <td>hagytam tomit nyerni .</td>\n",
              "      <td>I let Tom win.</td>\n",
              "      <td>i let tom win .</td>\n",
              "      <td>1.218332e-231</td>\n",
              "      <td>i let tom win .</td>\n",
              "      <td>1.218332e-231</td>\n",
              "    </tr>\n",
              "    <tr>\n",
              "      <th>3</th>\n",
              "      <td>ok valahol mashol voltak .</td>\n",
              "      <td>They were somewhere else.</td>\n",
              "      <td>they're ignored somewhere else .</td>\n",
              "      <td>1.218332e-231</td>\n",
              "      <td>they were somewhere else .</td>\n",
              "      <td>8.388266e-155</td>\n",
              "    </tr>\n",
              "    <tr>\n",
              "      <th>4</th>\n",
              "      <td>nem engedhetik meg maguknak .</td>\n",
              "      <td>They can't afford it.</td>\n",
              "      <td>he can't afford this .</td>\n",
              "      <td>8.388266e-155</td>\n",
              "      <td>it's not clear yet .</td>\n",
              "      <td>0.000000e+00</td>\n",
              "    </tr>\n",
              "    <tr>\n",
              "      <th>5</th>\n",
              "      <td>hozd be , tom !</td>\n",
              "      <td>Bring it in, Tom.</td>\n",
              "      <td>do , tom , it's tom .</td>\n",
              "      <td>0.000000e+00</td>\n",
              "      <td>get it , tom .</td>\n",
              "      <td>1.218332e-231</td>\n",
              "    </tr>\n",
              "    <tr>\n",
              "      <th>6</th>\n",
              "      <td>onnek van valamije , ami nekem kell .</td>\n",
              "      <td>You have something I need.</td>\n",
              "      <td>i have more money .</td>\n",
              "      <td>1.218332e-231</td>\n",
              "      <td>i have to have my important .</td>\n",
              "      <td>1.120041e-231</td>\n",
              "    </tr>\n",
              "    <tr>\n",
              "      <th>7</th>\n",
              "      <td>tomi egy politikus .</td>\n",
              "      <td>Tom is a politician.</td>\n",
              "      <td>tom is a lawyer .</td>\n",
              "      <td>8.388266e-155</td>\n",
              "      <td>tom is a thief .</td>\n",
              "      <td>8.388266e-155</td>\n",
              "    </tr>\n",
              "    <tr>\n",
              "      <th>8</th>\n",
              "      <td>hianyzik anyu !</td>\n",
              "      <td>I miss my mom.</td>\n",
              "      <td>miss your wife .</td>\n",
              "      <td>1.288230e-231</td>\n",
              "      <td>i envy him .</td>\n",
              "      <td>0.000000e+00</td>\n",
              "    </tr>\n",
              "    <tr>\n",
              "      <th>9</th>\n",
              "      <td>faradtak a &lt;unk&gt; .</td>\n",
              "      <td>My eyes are tired.</td>\n",
              "      <td>he's tired of the long .</td>\n",
              "      <td>0.000000e+00</td>\n",
              "      <td>they all tired .</td>\n",
              "      <td>0.000000e+00</td>\n",
              "    </tr>\n",
              "    <tr>\n",
              "      <th>10</th>\n",
              "      <td>ulj fel a &lt;unk&gt; !</td>\n",
              "      <td>Get on your bike.</td>\n",
              "      <td>sit down !</td>\n",
              "      <td>0.000000e+00</td>\n",
              "      <td>sit in the kitchen .</td>\n",
              "      <td>0.000000e+00</td>\n",
              "    </tr>\n",
              "    <tr>\n",
              "      <th>11</th>\n",
              "      <td>azt gondolom , hogy tomi fel toled .</td>\n",
              "      <td>I think Tom is afraid of you.</td>\n",
              "      <td>i think tom is following me .</td>\n",
              "      <td>1.331960e-231</td>\n",
              "      <td>i think tom is afraid of me .</td>\n",
              "      <td>4.797597e-78</td>\n",
              "    </tr>\n",
              "    <tr>\n",
              "      <th>12</th>\n",
              "      <td>muveszi vagy .</td>\n",
              "      <td>You're artistic.</td>\n",
              "      <td>you're welcome .</td>\n",
              "      <td>0.000000e+00</td>\n",
              "      <td>you're on .</td>\n",
              "      <td>0.000000e+00</td>\n",
              "    </tr>\n",
              "    <tr>\n",
              "      <th>13</th>\n",
              "      <td>a ket ferfi egymast okolta a &lt;unk&gt; .</td>\n",
              "      <td>The two men blamed each other for the crime.</td>\n",
              "      <td>two men gave up the same for each other .</td>\n",
              "      <td>9.013779e-155</td>\n",
              "      <td>the two ladies are filled with the enemy or ea...</td>\n",
              "      <td>6.223630e-155</td>\n",
              "    </tr>\n",
              "    <tr>\n",
              "      <th>14</th>\n",
              "      <td>nem tudnak semmit .</td>\n",
              "      <td>They know nothing.</td>\n",
              "      <td>they don't know anything .</td>\n",
              "      <td>1.218332e-231</td>\n",
              "      <td>they can't find anything .</td>\n",
              "      <td>0.000000e+00</td>\n",
              "    </tr>\n",
              "  </tbody>\n",
              "</table>\n",
              "</div>\n",
              "      <button class=\"colab-df-convert\" onclick=\"convertToInteractive('df-bb3f5e7d-69b4-4c7d-92cd-070a2df1a707')\"\n",
              "              title=\"Convert this dataframe to an interactive table.\"\n",
              "              style=\"display:none;\">\n",
              "        \n",
              "  <svg xmlns=\"http://www.w3.org/2000/svg\" height=\"24px\"viewBox=\"0 0 24 24\"\n",
              "       width=\"24px\">\n",
              "    <path d=\"M0 0h24v24H0V0z\" fill=\"none\"/>\n",
              "    <path d=\"M18.56 5.44l.94 2.06.94-2.06 2.06-.94-2.06-.94-.94-2.06-.94 2.06-2.06.94zm-11 1L8.5 8.5l.94-2.06 2.06-.94-2.06-.94L8.5 2.5l-.94 2.06-2.06.94zm10 10l.94 2.06.94-2.06 2.06-.94-2.06-.94-.94-2.06-.94 2.06-2.06.94z\"/><path d=\"M17.41 7.96l-1.37-1.37c-.4-.4-.92-.59-1.43-.59-.52 0-1.04.2-1.43.59L10.3 9.45l-7.72 7.72c-.78.78-.78 2.05 0 2.83L4 21.41c.39.39.9.59 1.41.59.51 0 1.02-.2 1.41-.59l7.78-7.78 2.81-2.81c.8-.78.8-2.07 0-2.86zM5.41 20L4 18.59l7.72-7.72 1.47 1.35L5.41 20z\"/>\n",
              "  </svg>\n",
              "      </button>\n",
              "      \n",
              "  <style>\n",
              "    .colab-df-container {\n",
              "      display:flex;\n",
              "      flex-wrap:wrap;\n",
              "      gap: 12px;\n",
              "    }\n",
              "\n",
              "    .colab-df-convert {\n",
              "      background-color: #E8F0FE;\n",
              "      border: none;\n",
              "      border-radius: 50%;\n",
              "      cursor: pointer;\n",
              "      display: none;\n",
              "      fill: #1967D2;\n",
              "      height: 32px;\n",
              "      padding: 0 0 0 0;\n",
              "      width: 32px;\n",
              "    }\n",
              "\n",
              "    .colab-df-convert:hover {\n",
              "      background-color: #E2EBFA;\n",
              "      box-shadow: 0px 1px 2px rgba(60, 64, 67, 0.3), 0px 1px 3px 1px rgba(60, 64, 67, 0.15);\n",
              "      fill: #174EA6;\n",
              "    }\n",
              "\n",
              "    [theme=dark] .colab-df-convert {\n",
              "      background-color: #3B4455;\n",
              "      fill: #D2E3FC;\n",
              "    }\n",
              "\n",
              "    [theme=dark] .colab-df-convert:hover {\n",
              "      background-color: #434B5C;\n",
              "      box-shadow: 0px 1px 3px 1px rgba(0, 0, 0, 0.15);\n",
              "      filter: drop-shadow(0px 1px 2px rgba(0, 0, 0, 0.3));\n",
              "      fill: #FFFFFF;\n",
              "    }\n",
              "  </style>\n",
              "\n",
              "      <script>\n",
              "        const buttonEl =\n",
              "          document.querySelector('#df-bb3f5e7d-69b4-4c7d-92cd-070a2df1a707 button.colab-df-convert');\n",
              "        buttonEl.style.display =\n",
              "          google.colab.kernel.accessAllowed ? 'block' : 'none';\n",
              "\n",
              "        async function convertToInteractive(key) {\n",
              "          const element = document.querySelector('#df-bb3f5e7d-69b4-4c7d-92cd-070a2df1a707');\n",
              "          const dataTable =\n",
              "            await google.colab.kernel.invokeFunction('convertToInteractive',\n",
              "                                                     [key], {});\n",
              "          if (!dataTable) return;\n",
              "\n",
              "          const docLinkHtml = 'Like what you see? Visit the ' +\n",
              "            '<a target=\"_blank\" href=https://colab.research.google.com/notebooks/data_table.ipynb>data table notebook</a>'\n",
              "            + ' to learn more about interactive tables.';\n",
              "          element.innerHTML = '';\n",
              "          dataTable['output_type'] = 'display_data';\n",
              "          await google.colab.output.renderOutput(dataTable, element);\n",
              "          const docLink = document.createElement('div');\n",
              "          docLink.innerHTML = docLinkHtml;\n",
              "          element.appendChild(docLink);\n",
              "        }\n",
              "      </script>\n",
              "    </div>\n",
              "  </div>\n",
              "  "
            ]
          },
          "metadata": {},
          "execution_count": 71
        }
      ]
    },
    {
      "cell_type": "markdown",
      "source": [
        "Ok, so clearly the encoder/decoder with attention gets further along before losing signal and it often manages to translate words later in the sentence.<br><br>\n",
        "But still, there are clear limitiations. For one thing, we need *much* more data. For another, most industrial translation systems use more complex models. For example, Google's NMT system (when it was based entirely on LSTMs) used 8 layers for both the encoder and decoder.<br><br>\n",
        "But beyond that, we can use a more powerful model such as Transformers."
      ],
      "metadata": {
        "id": "jbnz5i5qp7yl"
      }
    }
  ]
}
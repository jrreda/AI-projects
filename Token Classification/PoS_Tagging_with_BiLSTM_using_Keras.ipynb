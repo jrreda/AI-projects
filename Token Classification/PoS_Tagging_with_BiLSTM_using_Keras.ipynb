{
  "nbformat": 4,
  "nbformat_minor": 0,
  "metadata": {
    "colab": {
      "provenance": []
    },
    "kernelspec": {
      "name": "python3",
      "display_name": "Python 3"
    },
    "language_info": {
      "name": "python"
    },
    "accelerator": "GPU",
    "gpuClass": "standard"
  },
  "cells": [
    {
      "cell_type": "code",
      "execution_count": 1,
      "metadata": {
        "id": "uDbhIJWtsJub"
      },
      "outputs": [],
      "source": [
        "# necessary imports\n",
        "import nltk\n",
        "from nltk.corpus import treebank, brown, conll2000\n",
        "import numpy as np\n",
        "import pandas as pd\n",
        "from tensorflow import keras\n",
        "from tensorflow.keras.callbacks import ModelCheckpoint"
      ]
    },
    {
      "cell_type": "markdown",
      "source": [
        "It's difficult to find free sequence labelling datasets because they're so labour-intensive to create.\n",
        "<br><br>\n",
        "Fortunately, **Natural Language Toolkit (NLTK)** includes enough free sets of labelled corpora for our purposes. NLTK also provides them in a convenient uniform format.<br>\n",
        "https://www.nltk.org/index.html<br>\n",
        "https://www.nltk.org/nltk_data/<br>\n",
        "<br>\n",
        "We'll use the Treebank, Brown, and CONLL-2000 datasets. "
      ],
      "metadata": {
        "id": "ARQtjffjs5mg"
      }
    },
    {
      "cell_type": "code",
      "source": [
        "nltk.download('treebank')\n",
        "nltk.download('brown')\n",
        "nltk.download('conll2000')"
      ],
      "metadata": {
        "colab": {
          "base_uri": "https://localhost:8080/"
        },
        "id": "4JdYwhd8s2CO",
        "outputId": "66080f9b-8ca6-4d7d-9c6c-631683351ae5"
      },
      "execution_count": 2,
      "outputs": [
        {
          "output_type": "stream",
          "name": "stderr",
          "text": [
            "[nltk_data] Downloading package treebank to /root/nltk_data...\n",
            "[nltk_data]   Unzipping corpora/treebank.zip.\n",
            "[nltk_data] Downloading package brown to /root/nltk_data...\n",
            "[nltk_data]   Unzipping corpora/brown.zip.\n",
            "[nltk_data] Downloading package conll2000 to /root/nltk_data...\n",
            "[nltk_data]   Unzipping corpora/conll2000.zip.\n"
          ]
        },
        {
          "output_type": "execute_result",
          "data": {
            "text/plain": [
              "True"
            ]
          },
          "metadata": {},
          "execution_count": 2
        }
      ]
    },
    {
      "cell_type": "markdown",
      "source": [
        "In their original form, the datasets use different part-of-speech (PoS) tag sets. We need to ensure they all use the same tagset, so we'll download a simplified set called the *universal_tagset* from NLTK.<br>\n",
        "\n",
        "See Section 2.3 here for a list of tags: https://www.nltk.org/book/ch05.html"
      ],
      "metadata": {
        "id": "c50bnjL-tCM8"
      }
    },
    {
      "cell_type": "code",
      "source": [
        "nltk.download('universal_tagset')"
      ],
      "metadata": {
        "colab": {
          "base_uri": "https://localhost:8080/"
        },
        "id": "j3bQv-wKtBBx",
        "outputId": "a9aaab3e-a6d1-4bd3-cdd0-c969ed4b8f8b"
      },
      "execution_count": 3,
      "outputs": [
        {
          "output_type": "stream",
          "name": "stderr",
          "text": [
            "[nltk_data] Downloading package universal_tagset to /root/nltk_data...\n",
            "[nltk_data]   Unzipping taggers/universal_tagset.zip.\n"
          ]
        },
        {
          "output_type": "execute_result",
          "data": {
            "text/plain": [
              "True"
            ]
          },
          "metadata": {},
          "execution_count": 3
        }
      ]
    },
    {
      "cell_type": "code",
      "source": [
        "# Download all PoS-tagged sentences and place them in one list.\n",
        "tagged_sentences = treebank.tagged_sents(tagset='universal') +\\\n",
        "                   brown.tagged_sents(tagset='universal') +\\\n",
        "                   conll2000.tagged_sents(tagset='universal')\n",
        "\n",
        "print(tagged_sentences[0])\n",
        "print(f\"Dataset size: {len(tagged_sentences)}\")"
      ],
      "metadata": {
        "id": "9h0bOFLKtDsR",
        "colab": {
          "base_uri": "https://localhost:8080/"
        },
        "outputId": "cdea52a9-2ae7-4c48-a996-4ffb55501714"
      },
      "execution_count": 4,
      "outputs": [
        {
          "output_type": "stream",
          "name": "stdout",
          "text": [
            "[('Pierre', 'NOUN'), ('Vinken', 'NOUN'), (',', '.'), ('61', 'NUM'), ('years', 'NOUN'), ('old', 'ADJ'), (',', '.'), ('will', 'VERB'), ('join', 'VERB'), ('the', 'DET'), ('board', 'NOUN'), ('as', 'ADP'), ('a', 'DET'), ('nonexecutive', 'ADJ'), ('director', 'NOUN'), ('Nov.', 'NOUN'), ('29', 'NUM'), ('.', '.')]\n",
            "Dataset size: 72202\n"
          ]
        }
      ]
    },
    {
      "cell_type": "code",
      "source": [
        "# separate the words from the tags \n",
        "sentences, sentence_tags = [], []\n",
        "\n",
        "for s in tagged_sentences:\n",
        "  sentence, tags = zip(*s)\n",
        "  sentences.append(list(sentence))\n",
        "  sentence_tags.append(list(tags))\n",
        "\n",
        "print(len(sentences), len(sentence_tags))\n",
        "print(sentences[0])\n",
        "print(sentence_tags[0])"
      ],
      "metadata": {
        "colab": {
          "base_uri": "https://localhost:8080/"
        },
        "id": "-2aeYd9d19FN",
        "outputId": "920b9e9d-7085-4b9b-e9bb-a9b286102912"
      },
      "execution_count": 5,
      "outputs": [
        {
          "output_type": "stream",
          "name": "stdout",
          "text": [
            "72202 72202\n",
            "['Pierre', 'Vinken', ',', '61', 'years', 'old', ',', 'will', 'join', 'the', 'board', 'as', 'a', 'nonexecutive', 'director', 'Nov.', '29', '.']\n",
            "['NOUN', 'NOUN', '.', 'NUM', 'NOUN', 'ADJ', '.', 'VERB', 'VERB', 'DET', 'NOUN', 'ADP', 'DET', 'ADJ', 'NOUN', 'NOUN', 'NUM', '.']\n"
          ]
        }
      ]
    },
    {
      "cell_type": "code",
      "source": [
        "# create train/validation/test splits\n",
        "from sklearn.model_selection import train_test_split\n",
        "\n",
        "X_train, X_test, y_train, y_test = train_test_split(sentences, sentence_tags, test_size=0.25)\n",
        "X_val, X_test, y_val, y_test = train_test_split(X_test, y_test, test_size=0.4)\n"
      ],
      "metadata": {
        "id": "_zy49Hf119B8"
      },
      "execution_count": 6,
      "outputs": []
    },
    {
      "cell_type": "code",
      "source": [
        "print(len(X_train), len(y_train))\n",
        "print(len(X_val), len(y_val))\n",
        "print(len(X_test), len(y_test))"
      ],
      "metadata": {
        "colab": {
          "base_uri": "https://localhost:8080/"
        },
        "id": "SyUk37u45Rsx",
        "outputId": "d132d691-58e3-4809-a40e-0b13dcbbdb7c"
      },
      "execution_count": 7,
      "outputs": [
        {
          "output_type": "stream",
          "name": "stdout",
          "text": [
            "54151 54151\n",
            "10830 10830\n",
            "7221 7221\n"
          ]
        }
      ]
    },
    {
      "cell_type": "code",
      "source": [
        "# tokenize sentences\n",
        "from tensorflow.keras.preprocessing.text import Tokenizer\n",
        "\n",
        "sentence_tokenizer = Tokenizer(oov_token='<OOV>')\n",
        "sentence_tokenizer.fit_on_texts(X_train)\n",
        "\n",
        "X_train = sentence_tokenizer.texts_to_sequences(X_train)\n",
        "X_val   = sentence_tokenizer.texts_to_sequences(X_val)"
      ],
      "metadata": {
        "id": "aBKXsoN_2CkA"
      },
      "execution_count": 8,
      "outputs": []
    },
    {
      "cell_type": "code",
      "source": [
        "print(f\"Vocabulary size: {len(sentence_tokenizer.word_index)}\")"
      ],
      "metadata": {
        "colab": {
          "base_uri": "https://localhost:8080/"
        },
        "id": "cUXcyJbN-Xtl",
        "outputId": "963e237c-00a6-43a7-dc23-4d46a48b202d"
      },
      "execution_count": 9,
      "outputs": [
        {
          "output_type": "stream",
          "name": "stdout",
          "text": [
            "Vocabulary size: 52239\n"
          ]
        }
      ]
    },
    {
      "cell_type": "code",
      "source": [
        "# tokenize tags\n",
        "tag_tokenizer = Tokenizer()\n",
        "tag_tokenizer.fit_on_texts(y_train)\n",
        "\n",
        "y_train = tag_tokenizer.texts_to_sequences(y_train)\n",
        "y_val   = tag_tokenizer.texts_to_sequences(y_val)"
      ],
      "metadata": {
        "id": "VBDYOkQa6V9N"
      },
      "execution_count": 10,
      "outputs": []
    },
    {
      "cell_type": "code",
      "source": [
        "print(f\"Number of PoS tags: {len(tag_tokenizer.word_index)}\")"
      ],
      "metadata": {
        "colab": {
          "base_uri": "https://localhost:8080/"
        },
        "id": "RgsxOqOc-doT",
        "outputId": "0028006a-fc2d-4bc6-900e-c9d062c032eb"
      },
      "execution_count": 11,
      "outputs": [
        {
          "output_type": "stream",
          "name": "stdout",
          "text": [
            "Number of PoS tags: 12\n"
          ]
        }
      ]
    },
    {
      "cell_type": "code",
      "source": [
        "# max sentence length\n",
        "print('Max:', max([len(x) for x in X_train]))\n",
        "len(max(X_train, key=len))"
      ],
      "metadata": {
        "colab": {
          "base_uri": "https://localhost:8080/"
        },
        "id": "3oW2g-DW7c5j",
        "outputId": "d2e99fa5-333f-4b49-8f11-fa02eda8792e"
      },
      "execution_count": 12,
      "outputs": [
        {
          "output_type": "stream",
          "name": "stdout",
          "text": [
            "Max: 271\n"
          ]
        },
        {
          "output_type": "execute_result",
          "data": {
            "text/plain": [
              "271"
            ]
          },
          "metadata": {},
          "execution_count": 12
        }
      ]
    },
    {
      "cell_type": "code",
      "source": [
        "# pad sequences & tags\n",
        "from tensorflow.keras.preprocessing.sequence import pad_sequences\n",
        "\n",
        "X_train = pad_sequences(X_train, padding='post', maxlen=271)\n",
        "X_val = pad_sequences(X_val, padding='post', maxlen=271)\n",
        "\n",
        "y_train = pad_sequences(y_train, padding='post', maxlen=271)\n",
        "y_val = pad_sequences(y_val, padding='post', maxlen=271)"
      ],
      "metadata": {
        "id": "ZiEWthgu2ChM"
      },
      "execution_count": 13,
      "outputs": []
    },
    {
      "cell_type": "code",
      "source": [
        "# one hot encode tags\n",
        "from tensorflow.keras.utils import to_categorical\n",
        "\n",
        "y_train = to_categorical(y_train)\n",
        "y_val = to_categorical(y_val)"
      ],
      "metadata": {
        "id": "xb0euHMh2Ces"
      },
      "execution_count": 14,
      "outputs": []
    },
    {
      "cell_type": "markdown",
      "source": [
        "We can determine the PoS tag from a one-hot encoding by seeing which index is set to 1, then using that to query the tag tokenizer's index_word dictionary."
      ],
      "metadata": {
        "id": "KjyDwE7C-LhT"
      }
    },
    {
      "cell_type": "code",
      "source": [
        "idx = np.argmax(y_train[0][0])\n",
        "print(f\"Index: {idx}\")\n",
        "\n",
        "print(f\"Tag: {tag_tokenizer.index_word[idx]}\")"
      ],
      "metadata": {
        "colab": {
          "base_uri": "https://localhost:8080/"
        },
        "id": "pvFTIzwn-MLu",
        "outputId": "fb2d0170-1e9e-4cd3-9609-7550e8ff1fc1"
      },
      "execution_count": 15,
      "outputs": [
        {
          "output_type": "stream",
          "name": "stdout",
          "text": [
            "Index: 5\n",
            "Tag: det\n"
          ]
        }
      ]
    },
    {
      "cell_type": "markdown",
      "source": [
        "# Bidirectional LSTM"
      ],
      "metadata": {
        "id": "3xuerSqe-yGo"
      }
    },
    {
      "cell_type": "code",
      "source": [
        "len(tag_tokenizer.word_index)"
      ],
      "metadata": {
        "colab": {
          "base_uri": "https://localhost:8080/"
        },
        "id": "PeiSRjI2-0IW",
        "outputId": "b64a7ba1-a7ba-46c3-87e5-3a2b029bccf0"
      },
      "execution_count": 16,
      "outputs": [
        {
          "output_type": "execute_result",
          "data": {
            "text/plain": [
              "12"
            ]
          },
          "metadata": {},
          "execution_count": 16
        }
      ]
    },
    {
      "cell_type": "code",
      "source": [
        "# store configuration parameters\n",
        "class CFG:\n",
        "    SEED = 0\n",
        "    NUM_TOKENS = len(sentence_tokenizer.word_index) + 1 # + padding\n",
        "    NUM_CLASSES = len(tag_tokenizer.word_index) + 1 # + padding\n",
        "    MAX_LENGTH = 271\n",
        "    BATCH_SIZE = 256\n",
        "    EMBEDDING_DIMS = 128\n",
        "    EPOCHS = 20\n",
        "    LSTM_DIMS = 128"
      ],
      "metadata": {
        "id": "GkGSdG1u-0Wa"
      },
      "execution_count": 17,
      "outputs": []
    },
    {
      "cell_type": "code",
      "source": [
        "import tensorflow as tf\n",
        "\n",
        "tf.random.set_seed(CFG.SEED)"
      ],
      "metadata": {
        "id": "ZKLOEBZY_Qfe"
      },
      "execution_count": 18,
      "outputs": []
    },
    {
      "cell_type": "code",
      "source": [
        "# model\n",
        "from tensorflow.keras.layers import Embedding, Bidirectional, LSTM, Dense\n",
        "\n",
        "model = keras.Sequential([\n",
        "    Embedding(input_dim=CFG.NUM_TOKENS, \n",
        "              output_dim=CFG.NUM_CLASSES, \n",
        "              input_length=CFG.MAX_LENGTH,\n",
        "              mask_zero=True),\n",
        "    Bidirectional(LSTM(CFG.LSTM_DIMS, return_sequences=True, \n",
        "                       kernel_initializer=tf.keras.initializers.random_normal(seed=1))),\n",
        "    Dense(CFG.NUM_CLASSES, activation='softmax')\n",
        "])\n",
        "\n",
        "model.summary()"
      ],
      "metadata": {
        "colab": {
          "base_uri": "https://localhost:8080/"
        },
        "id": "-8pcE8TM2dBD",
        "outputId": "b48f28ba-938f-41de-ea83-b3c2fdb3cd44"
      },
      "execution_count": 19,
      "outputs": [
        {
          "output_type": "stream",
          "name": "stdout",
          "text": [
            "Model: \"sequential\"\n",
            "_________________________________________________________________\n",
            " Layer (type)                Output Shape              Param #   \n",
            "=================================================================\n",
            " embedding (Embedding)       (None, 271, 13)           679120    \n",
            "                                                                 \n",
            " bidirectional (Bidirectiona  (None, 271, 256)         145408    \n",
            " l)                                                              \n",
            "                                                                 \n",
            " dense (Dense)               (None, 271, 13)           3341      \n",
            "                                                                 \n",
            "=================================================================\n",
            "Total params: 827,869\n",
            "Trainable params: 827,869\n",
            "Non-trainable params: 0\n",
            "_________________________________________________________________\n"
          ]
        }
      ]
    },
    {
      "cell_type": "code",
      "source": [
        "model.compile(loss='categorical_crossentropy',\n",
        "              optimizer='adam',\n",
        "              metrics=['accuracy'])"
      ],
      "metadata": {
        "id": "WAAcgKev2gbN"
      },
      "execution_count": 20,
      "outputs": []
    },
    {
      "cell_type": "code",
      "source": [
        "es = keras.callbacks.EarlyStopping(monitor='val_loss', patience=3)\n",
        "\n",
        "history = model.fit(X_train, y_train, epochs=CFG.EPOCHS, \n",
        "                    batch_size=CFG.EPOCHS, validation_data=(X_val, y_val), \n",
        "                    callbacks=[es])"
      ],
      "metadata": {
        "colab": {
          "base_uri": "https://localhost:8080/"
        },
        "id": "wegeZbr633Lr",
        "outputId": "6059f25a-1935-4b3f-8d47-6c6181d71274"
      },
      "execution_count": 21,
      "outputs": [
        {
          "output_type": "stream",
          "name": "stdout",
          "text": [
            "Epoch 1/20\n",
            "2708/2708 [==============================] - 95s 30ms/step - loss: 0.3158 - accuracy: 0.9015 - val_loss: 0.1155 - val_accuracy: 0.9615\n",
            "Epoch 2/20\n",
            "2708/2708 [==============================] - 52s 19ms/step - loss: 0.0845 - accuracy: 0.9722 - val_loss: 0.0943 - val_accuracy: 0.9683\n",
            "Epoch 3/20\n",
            "2708/2708 [==============================] - 49s 18ms/step - loss: 0.0600 - accuracy: 0.9805 - val_loss: 0.0892 - val_accuracy: 0.9704\n",
            "Epoch 4/20\n",
            "2708/2708 [==============================] - 49s 18ms/step - loss: 0.0472 - accuracy: 0.9846 - val_loss: 0.0865 - val_accuracy: 0.9725\n",
            "Epoch 5/20\n",
            "2708/2708 [==============================] - 51s 19ms/step - loss: 0.0379 - accuracy: 0.9876 - val_loss: 0.0918 - val_accuracy: 0.9714\n",
            "Epoch 6/20\n",
            "2708/2708 [==============================] - 50s 18ms/step - loss: 0.0313 - accuracy: 0.9899 - val_loss: 0.0972 - val_accuracy: 0.9711\n",
            "Epoch 7/20\n",
            "2708/2708 [==============================] - 50s 19ms/step - loss: 0.0252 - accuracy: 0.9918 - val_loss: 0.1040 - val_accuracy: 0.9702\n"
          ]
        }
      ]
    },
    {
      "cell_type": "code",
      "source": [
        "pd.DataFrame(history.history).plot();"
      ],
      "metadata": {
        "colab": {
          "base_uri": "https://localhost:8080/",
          "height": 265
        },
        "id": "nTor7f282gYw",
        "outputId": "d50b47e3-9397-43ce-892c-5fbaf7ab799c"
      },
      "execution_count": 22,
      "outputs": [
        {
          "output_type": "display_data",
          "data": {
            "text/plain": [
              "<Figure size 432x288 with 1 Axes>"
            ],
            "image/png": "[encoded data removed]"
          },
          "metadata": {
            "needs_background": "light"
          }
        }
      ]
    },
    {
      "cell_type": "code",
      "source": [
        "# Preprocess the test data and test the model.\n",
        "X_test = sentence_tokenizer.texts_to_sequences(X_test)\n",
        "X_test = keras.preprocessing.sequence.pad_sequences(X_test, padding='post', maxlen=CFG.MAX_LENGTH)\n",
        "\n",
        "y_test = tag_tokenizer.texts_to_sequences(y_test)\n",
        "y_test = keras.preprocessing.sequence.pad_sequences(y_test, padding='post', maxlen=CFG.MAX_LENGTH)\n",
        "y_test = keras.utils.to_categorical(y_test)"
      ],
      "metadata": {
        "id": "HuaGsLnN2gVu"
      },
      "execution_count": 23,
      "outputs": []
    },
    {
      "cell_type": "code",
      "source": [
        "model.evaluate(X_test, y_test)"
      ],
      "metadata": {
        "colab": {
          "base_uri": "https://localhost:8080/"
        },
        "id": "VWBB_unp5sk6",
        "outputId": "c84884da-5a8e-494f-8f29-9f6da9580f40"
      },
      "execution_count": 24,
      "outputs": [
        {
          "output_type": "stream",
          "name": "stdout",
          "text": [
            "226/226 [==============================] - 2s 8ms/step - loss: 0.1044 - accuracy: 0.9701\n"
          ]
        },
        {
          "output_type": "execute_result",
          "data": {
            "text/plain": [
              "[0.10438314825296402, 0.9700635075569153]"
            ]
          },
          "metadata": {},
          "execution_count": 24
        }
      ]
    },
    {
      "cell_type": "markdown",
      "source": [
        "We can now use our model to tag sentences."
      ],
      "metadata": {
        "id": "n0ICXe725yPU"
      }
    },
    {
      "cell_type": "code",
      "source": [
        "samples = [\n",
        "    \"Brown refused to testify.\",\n",
        "    \"Brown sofas are on sale.\",\n",
        "]"
      ],
      "metadata": {
        "id": "Lg8TqhNu5wXl"
      },
      "execution_count": 34,
      "outputs": []
    },
    {
      "cell_type": "markdown",
      "source": [
        "The function below takes a list of strings, tokenizes and pads them, then has the model tag them. Note that if a sentence is longer than MAX_LENGTH, it'll be truncated."
      ],
      "metadata": {
        "id": "kaKg9ZNi540h"
      }
    },
    {
      "cell_type": "code",
      "source": [
        "def tag_sentences(sentences):\n",
        "  sentences_seqs   = sentence_tokenizer.texts_to_sequences(sentences)\n",
        "  sentences_padded = keras.preprocessing.sequence.pad_sequences(sentences_seqs, maxlen=CFG.MAX_LENGTH, padding='post')\n",
        "\n",
        "\n",
        "  # The model returns a LIST of PROBABILITY DISTRIBUTIONS (due to the softmax)\n",
        "  # for EACH sentence. There is one probability distribution for each PoS tag.\n",
        "  tag_preds = model.predict(sentences_padded)\n",
        "\n",
        "  sentence_tags = []\n",
        "  for i, preds in enumerate(tag_preds):\n",
        "\n",
        "    # Most probable tag\n",
        "    tags_seq = [np.argmax(p) for p in preds[:len(sentences_seqs[i])]]\n",
        "\n",
        "    # Convert the sentence and tag sequences back to their token counterparts.\n",
        "    words = [sentence_tokenizer.index_word[w] for w in sentences_seqs[i]]\n",
        "    tags = [tag_tokenizer.index_word[t] for t in tags_seq]\n",
        "    sentence_tags.append(list(zip(words, tags)))\n",
        "\n",
        "  return sentence_tags\n"
      ],
      "metadata": {
        "id": "IThJSot35wUm"
      },
      "execution_count": 49,
      "outputs": []
    },
    {
      "cell_type": "code",
      "source": [
        "tagged_sample_sentences = tag_sentences(samples)"
      ],
      "metadata": {
        "colab": {
          "base_uri": "https://localhost:8080/"
        },
        "id": "hDNUqhm1SGLu",
        "outputId": "54f5f2fd-5c64-4320-f117-37e3d60d734a"
      },
      "execution_count": 50,
      "outputs": [
        {
          "output_type": "stream",
          "name": "stdout",
          "text": [
            "1/1 [==============================] - 0s 36ms/step\n"
          ]
        }
      ]
    },
    {
      "cell_type": "code",
      "source": [
        "tagged_sample_sentences[0]"
      ],
      "metadata": {
        "colab": {
          "base_uri": "https://localhost:8080/"
        },
        "id": "i4O5L2sO7PR6",
        "outputId": "582149bd-170a-421e-ddc4-5b404f358b03"
      },
      "execution_count": 51,
      "outputs": [
        {
          "output_type": "execute_result",
          "data": {
            "text/plain": [
              "[('brown', 'noun'), ('refused', 'verb'), ('to', 'prt'), ('testify', 'verb')]"
            ]
          },
          "metadata": {},
          "execution_count": 51
        }
      ]
    },
    {
      "cell_type": "code",
      "source": [
        "tagged_sample_sentences[1]"
      ],
      "metadata": {
        "colab": {
          "base_uri": "https://localhost:8080/"
        },
        "id": "b8fiIzvM7YAS",
        "outputId": "0ab351af-f35e-48a3-ccb6-c2c75f4fdd1f"
      },
      "execution_count": 52,
      "outputs": [
        {
          "output_type": "execute_result",
          "data": {
            "text/plain": [
              "[('brown', 'adj'),\n",
              " ('sofas', 'noun'),\n",
              " ('are', 'verb'),\n",
              " ('on', 'adp'),\n",
              " ('sale', 'noun')]"
            ]
          },
          "metadata": {},
          "execution_count": 52
        }
      ]
    },
    {
      "cell_type": "markdown",
      "source": [
        "So that's one way to build a PoS tagger. Industrial-strength taggers use a lot more data and these days, are powered by more sophisticated models such as Transformers!"
      ],
      "metadata": {
        "id": "PaLVWlOWTEa-"
      }
    }
  ]
}